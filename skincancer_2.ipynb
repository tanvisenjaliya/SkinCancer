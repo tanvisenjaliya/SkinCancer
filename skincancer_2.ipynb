{
 "cells": [
  {
   "cell_type": "markdown",
   "id": "908cfeb5",
   "metadata": {
    "papermill": {
     "duration": 0.040246,
     "end_time": "2022-03-10T09:27:17.389990",
     "exception": false,
     "start_time": "2022-03-10T09:27:17.349744",
     "status": "completed"
    },
    "tags": []
   },
   "source": [
    "### <font color=blue>  </font>"
   ]
  },
  {
   "cell_type": "markdown",
   "id": "27bd9a12",
   "metadata": {
    "papermill": {
     "duration": 0.058513,
     "end_time": "2022-03-10T09:27:17.501245",
     "exception": false,
     "start_time": "2022-03-10T09:27:17.442732",
     "status": "completed"
    },
    "tags": []
   },
   "source": [
    "### <font color=deeppink> Importing libraries </font>"
   ]
  },
  {
   "cell_type": "code",
   "execution_count": 1,
   "id": "f15293b5",
   "metadata": {
    "execution": {
     "iopub.execute_input": "2022-03-10T09:27:17.584245Z",
     "iopub.status.busy": "2022-03-10T09:27:17.582772Z",
     "iopub.status.idle": "2022-03-10T09:27:22.885369Z",
     "shell.execute_reply": "2022-03-10T09:27:22.884786Z",
     "shell.execute_reply.started": "2022-03-10T06:14:34.091739Z"
    },
    "papermill": {
     "duration": 5.345573,
     "end_time": "2022-03-10T09:27:22.885549",
     "exception": false,
     "start_time": "2022-03-10T09:27:17.539976",
     "status": "completed"
    },
    "tags": []
   },
   "outputs": [],
   "source": [
    "import shutil, os\n",
    "import matplotlib.pyplot as plt\n",
    "import pandas as pd\n",
    "import numpy as np\n",
    "from sklearn.metrics import confusion_matrix\n",
    "from sklearn.model_selection import train_test_split\n",
    "import itertools\n",
    "\n",
    "\n",
    "%matplotlib inline\n",
    "\n",
    "import tensorflow as tf\n",
    "from tensorflow.keras.preprocessing.image import ImageDataGenerator\n"
   ]
  },
  {
   "cell_type": "markdown",
   "id": "af8b8623",
   "metadata": {
    "papermill": {
     "duration": 0.03875,
     "end_time": "2022-03-10T09:27:22.963790",
     "exception": false,
     "start_time": "2022-03-10T09:27:22.925040",
     "status": "completed"
    },
    "tags": []
   },
   "source": [
    "### <font color=deeppink> Making Dictionary  </font>"
   ]
  },
  {
   "cell_type": "code",
   "execution_count": 2,
   "id": "f0b48a52",
   "metadata": {
    "execution": {
     "iopub.execute_input": "2022-03-10T09:27:23.044733Z",
     "iopub.status.busy": "2022-03-10T09:27:23.044129Z",
     "iopub.status.idle": "2022-03-10T09:27:23.056582Z",
     "shell.execute_reply": "2022-03-10T09:27:23.056153Z",
     "shell.execute_reply.started": "2022-03-10T06:14:39.911796Z"
    },
    "papermill": {
     "duration": 0.054596,
     "end_time": "2022-03-10T09:27:23.056701",
     "exception": false,
     "start_time": "2022-03-10T09:27:23.002105",
     "status": "completed"
    },
    "tags": []
   },
   "outputs": [
    {
     "data": {
      "text/plain": [
       "['hmnist_8_8_RGB.csv',\n",
       " 'hmnist_28_28_RGB.csv',\n",
       " 'HAM10000_images_part_1',\n",
       " 'ham10000_images_part_1',\n",
       " 'hmnist_8_8_L.csv',\n",
       " 'HAM10000_images_part_2',\n",
       " 'ham10000_images_part_2',\n",
       " 'hmnist_28_28_L.csv',\n",
       " 'HAM10000_metadata.csv']"
      ]
     },
     "execution_count": 2,
     "metadata": {},
     "output_type": "execute_result"
    }
   ],
   "source": [
    "dir = '../input/skin-cancer-mnist-ham10000/'\n",
    "os.listdir(dir)"
   ]
  },
  {
   "cell_type": "code",
   "execution_count": 3,
   "id": "fdf67183",
   "metadata": {
    "execution": {
     "iopub.execute_input": "2022-03-10T09:27:23.139256Z",
     "iopub.status.busy": "2022-03-10T09:27:23.138456Z",
     "iopub.status.idle": "2022-03-10T09:27:23.141067Z",
     "shell.execute_reply": "2022-03-10T09:27:23.140634Z",
     "shell.execute_reply.started": "2022-03-10T06:14:39.937875Z"
    },
    "papermill": {
     "duration": 0.04515,
     "end_time": "2022-03-10T09:27:23.141173",
     "exception": false,
     "start_time": "2022-03-10T09:27:23.096023",
     "status": "completed"
    },
    "tags": []
   },
   "outputs": [],
   "source": [
    "# Create a new directory\n",
    "base_dir = 'base_dir'\n",
    "os.mkdir(base_dir)"
   ]
  },
  {
   "cell_type": "code",
   "execution_count": 4,
   "id": "84f4a99d",
   "metadata": {
    "execution": {
     "iopub.execute_input": "2022-03-10T09:27:23.223150Z",
     "iopub.status.busy": "2022-03-10T09:27:23.220818Z",
     "iopub.status.idle": "2022-03-10T09:27:23.225721Z",
     "shell.execute_reply": "2022-03-10T09:27:23.225207Z",
     "shell.execute_reply.started": "2022-03-10T06:14:39.944310Z"
    },
    "papermill": {
     "duration": 0.046062,
     "end_time": "2022-03-10T09:27:23.225833",
     "exception": false,
     "start_time": "2022-03-10T09:27:23.179771",
     "status": "completed"
    },
    "tags": []
   },
   "outputs": [],
   "source": [
    "# train_dir\n",
    "train_dir = os.path.join(base_dir, 'train_dir')\n",
    "os.mkdir(train_dir)\n",
    "\n",
    "# val_dir\n",
    "val_dir = os.path.join(base_dir, 'val_dir')\n",
    "os.mkdir(val_dir)"
   ]
  },
  {
   "cell_type": "code",
   "execution_count": 5,
   "id": "5d59ec56",
   "metadata": {
    "execution": {
     "iopub.execute_input": "2022-03-10T09:27:23.310379Z",
     "iopub.status.busy": "2022-03-10T09:27:23.309580Z",
     "iopub.status.idle": "2022-03-10T09:27:23.312542Z",
     "shell.execute_reply": "2022-03-10T09:27:23.312957Z",
     "shell.execute_reply.started": "2022-03-10T06:14:39.954982Z"
    },
    "papermill": {
     "duration": 0.048333,
     "end_time": "2022-03-10T09:27:23.313088",
     "exception": false,
     "start_time": "2022-03-10T09:27:23.264755",
     "status": "completed"
    },
    "tags": []
   },
   "outputs": [],
   "source": [
    "# create new folders inside train_dir\n",
    "nv = os.path.join(train_dir, 'nv')\n",
    "os.mkdir(nv)\n",
    "mel = os.path.join(train_dir, 'mel')\n",
    "os.mkdir(mel)\n",
    "bkl = os.path.join(train_dir, 'bkl')\n",
    "os.mkdir(bkl)\n",
    "bcc = os.path.join(train_dir, 'bcc')\n",
    "os.mkdir(bcc)\n",
    "akiec = os.path.join(train_dir, 'akiec')\n",
    "os.mkdir(akiec)\n",
    "vasc = os.path.join(train_dir, 'vasc')\n",
    "os.mkdir(vasc)\n",
    "df = os.path.join(train_dir, 'df')\n",
    "os.mkdir(df)"
   ]
  },
  {
   "cell_type": "code",
   "execution_count": 6,
   "id": "3d0dd26d",
   "metadata": {
    "execution": {
     "iopub.execute_input": "2022-03-10T09:27:23.396354Z",
     "iopub.status.busy": "2022-03-10T09:27:23.395563Z",
     "iopub.status.idle": "2022-03-10T09:27:23.399141Z",
     "shell.execute_reply": "2022-03-10T09:27:23.398679Z",
     "shell.execute_reply.started": "2022-03-10T06:14:39.967285Z"
    },
    "papermill": {
     "duration": 0.047609,
     "end_time": "2022-03-10T09:27:23.399310",
     "exception": false,
     "start_time": "2022-03-10T09:27:23.351701",
     "status": "completed"
    },
    "tags": []
   },
   "outputs": [],
   "source": [
    "# create new folders inside val_dir\n",
    "nv = os.path.join(val_dir, 'nv')\n",
    "os.mkdir(nv)\n",
    "mel = os.path.join(val_dir, 'mel')\n",
    "os.mkdir(mel)\n",
    "bkl = os.path.join(val_dir, 'bkl')\n",
    "os.mkdir(bkl)\n",
    "bcc = os.path.join(val_dir, 'bcc')\n",
    "os.mkdir(bcc)\n",
    "akiec = os.path.join(val_dir, 'akiec')\n",
    "os.mkdir(akiec)\n",
    "vasc = os.path.join(val_dir, 'vasc')\n",
    "os.mkdir(vasc)\n",
    "df = os.path.join(val_dir, 'df')\n",
    "os.mkdir(df)"
   ]
  },
  {
   "cell_type": "code",
   "execution_count": 7,
   "id": "05d71d2c",
   "metadata": {
    "execution": {
     "iopub.execute_input": "2022-03-10T09:27:23.481550Z",
     "iopub.status.busy": "2022-03-10T09:27:23.480950Z",
     "iopub.status.idle": "2022-03-10T09:27:23.521362Z",
     "shell.execute_reply": "2022-03-10T09:27:23.521767Z",
     "shell.execute_reply.started": "2022-03-10T06:14:39.977443Z"
    },
    "papermill": {
     "duration": 0.083628,
     "end_time": "2022-03-10T09:27:23.521919",
     "exception": false,
     "start_time": "2022-03-10T09:27:23.438291",
     "status": "completed"
    },
    "tags": []
   },
   "outputs": [
    {
     "data": {
      "text/html": [
       "<div>\n",
       "<style scoped>\n",
       "    .dataframe tbody tr th:only-of-type {\n",
       "        vertical-align: middle;\n",
       "    }\n",
       "\n",
       "    .dataframe tbody tr th {\n",
       "        vertical-align: top;\n",
       "    }\n",
       "\n",
       "    .dataframe thead th {\n",
       "        text-align: right;\n",
       "    }\n",
       "</style>\n",
       "<table border=\"1\" class=\"dataframe\">\n",
       "  <thead>\n",
       "    <tr style=\"text-align: right;\">\n",
       "      <th></th>\n",
       "      <th>lesion_id</th>\n",
       "      <th>image_id</th>\n",
       "      <th>dx</th>\n",
       "      <th>dx_type</th>\n",
       "      <th>age</th>\n",
       "      <th>sex</th>\n",
       "      <th>localization</th>\n",
       "    </tr>\n",
       "  </thead>\n",
       "  <tbody>\n",
       "    <tr>\n",
       "      <th>0</th>\n",
       "      <td>HAM_0000118</td>\n",
       "      <td>ISIC_0027419</td>\n",
       "      <td>bkl</td>\n",
       "      <td>histo</td>\n",
       "      <td>80.0</td>\n",
       "      <td>male</td>\n",
       "      <td>scalp</td>\n",
       "    </tr>\n",
       "    <tr>\n",
       "      <th>1</th>\n",
       "      <td>HAM_0000118</td>\n",
       "      <td>ISIC_0025030</td>\n",
       "      <td>bkl</td>\n",
       "      <td>histo</td>\n",
       "      <td>80.0</td>\n",
       "      <td>male</td>\n",
       "      <td>scalp</td>\n",
       "    </tr>\n",
       "    <tr>\n",
       "      <th>2</th>\n",
       "      <td>HAM_0002730</td>\n",
       "      <td>ISIC_0026769</td>\n",
       "      <td>bkl</td>\n",
       "      <td>histo</td>\n",
       "      <td>80.0</td>\n",
       "      <td>male</td>\n",
       "      <td>scalp</td>\n",
       "    </tr>\n",
       "    <tr>\n",
       "      <th>3</th>\n",
       "      <td>HAM_0002730</td>\n",
       "      <td>ISIC_0025661</td>\n",
       "      <td>bkl</td>\n",
       "      <td>histo</td>\n",
       "      <td>80.0</td>\n",
       "      <td>male</td>\n",
       "      <td>scalp</td>\n",
       "    </tr>\n",
       "    <tr>\n",
       "      <th>4</th>\n",
       "      <td>HAM_0001466</td>\n",
       "      <td>ISIC_0031633</td>\n",
       "      <td>bkl</td>\n",
       "      <td>histo</td>\n",
       "      <td>75.0</td>\n",
       "      <td>male</td>\n",
       "      <td>ear</td>\n",
       "    </tr>\n",
       "  </tbody>\n",
       "</table>\n",
       "</div>"
      ],
      "text/plain": [
       "     lesion_id      image_id   dx dx_type   age   sex localization\n",
       "0  HAM_0000118  ISIC_0027419  bkl   histo  80.0  male        scalp\n",
       "1  HAM_0000118  ISIC_0025030  bkl   histo  80.0  male        scalp\n",
       "2  HAM_0002730  ISIC_0026769  bkl   histo  80.0  male        scalp\n",
       "3  HAM_0002730  ISIC_0025661  bkl   histo  80.0  male        scalp\n",
       "4  HAM_0001466  ISIC_0031633  bkl   histo  75.0  male          ear"
      ]
     },
     "execution_count": 7,
     "metadata": {},
     "output_type": "execute_result"
    }
   ],
   "source": [
    "df_data = pd.read_csv(dir+'HAM10000_metadata.csv')\n",
    "\n",
    "df_data.head()"
   ]
  },
  {
   "cell_type": "markdown",
   "id": "87dfb439",
   "metadata": {
    "papermill": {
     "duration": 0.038747,
     "end_time": "2022-03-10T09:27:23.599652",
     "exception": false,
     "start_time": "2022-03-10T09:27:23.560905",
     "status": "completed"
    },
    "tags": []
   },
   "source": [
    "### <font color=deeppink> Data Cleaning</font>"
   ]
  },
  {
   "cell_type": "code",
   "execution_count": 8,
   "id": "5f01d525",
   "metadata": {
    "execution": {
     "iopub.execute_input": "2022-03-10T09:27:23.691726Z",
     "iopub.status.busy": "2022-03-10T09:27:23.690693Z",
     "iopub.status.idle": "2022-03-10T09:27:23.716248Z",
     "shell.execute_reply": "2022-03-10T09:27:23.715832Z",
     "shell.execute_reply.started": "2022-03-10T06:14:40.033695Z"
    },
    "papermill": {
     "duration": 0.076965,
     "end_time": "2022-03-10T09:27:23.716362",
     "exception": false,
     "start_time": "2022-03-10T09:27:23.639397",
     "status": "completed"
    },
    "tags": []
   },
   "outputs": [
    {
     "data": {
      "text/html": [
       "<div>\n",
       "<style scoped>\n",
       "    .dataframe tbody tr th:only-of-type {\n",
       "        vertical-align: middle;\n",
       "    }\n",
       "\n",
       "    .dataframe tbody tr th {\n",
       "        vertical-align: top;\n",
       "    }\n",
       "\n",
       "    .dataframe thead th {\n",
       "        text-align: right;\n",
       "    }\n",
       "</style>\n",
       "<table border=\"1\" class=\"dataframe\">\n",
       "  <thead>\n",
       "    <tr style=\"text-align: right;\">\n",
       "      <th></th>\n",
       "      <th>lesion_id</th>\n",
       "      <th>image_id</th>\n",
       "      <th>dx</th>\n",
       "      <th>dx_type</th>\n",
       "      <th>age</th>\n",
       "      <th>sex</th>\n",
       "      <th>localization</th>\n",
       "    </tr>\n",
       "  </thead>\n",
       "  <tbody>\n",
       "    <tr>\n",
       "      <th>0</th>\n",
       "      <td>HAM_0000001</td>\n",
       "      <td>1</td>\n",
       "      <td>1</td>\n",
       "      <td>1</td>\n",
       "      <td>1</td>\n",
       "      <td>1</td>\n",
       "      <td>1</td>\n",
       "    </tr>\n",
       "    <tr>\n",
       "      <th>1</th>\n",
       "      <td>HAM_0000003</td>\n",
       "      <td>1</td>\n",
       "      <td>1</td>\n",
       "      <td>1</td>\n",
       "      <td>1</td>\n",
       "      <td>1</td>\n",
       "      <td>1</td>\n",
       "    </tr>\n",
       "    <tr>\n",
       "      <th>2</th>\n",
       "      <td>HAM_0000004</td>\n",
       "      <td>1</td>\n",
       "      <td>1</td>\n",
       "      <td>1</td>\n",
       "      <td>1</td>\n",
       "      <td>1</td>\n",
       "      <td>1</td>\n",
       "    </tr>\n",
       "    <tr>\n",
       "      <th>3</th>\n",
       "      <td>HAM_0000007</td>\n",
       "      <td>1</td>\n",
       "      <td>1</td>\n",
       "      <td>1</td>\n",
       "      <td>1</td>\n",
       "      <td>1</td>\n",
       "      <td>1</td>\n",
       "    </tr>\n",
       "    <tr>\n",
       "      <th>4</th>\n",
       "      <td>HAM_0000008</td>\n",
       "      <td>1</td>\n",
       "      <td>1</td>\n",
       "      <td>1</td>\n",
       "      <td>1</td>\n",
       "      <td>1</td>\n",
       "      <td>1</td>\n",
       "    </tr>\n",
       "  </tbody>\n",
       "</table>\n",
       "</div>"
      ],
      "text/plain": [
       "     lesion_id  image_id  dx  dx_type  age  sex  localization\n",
       "0  HAM_0000001         1   1        1    1    1             1\n",
       "1  HAM_0000003         1   1        1    1    1             1\n",
       "2  HAM_0000004         1   1        1    1    1             1\n",
       "3  HAM_0000007         1   1        1    1    1             1\n",
       "4  HAM_0000008         1   1        1    1    1             1"
      ]
     },
     "execution_count": 8,
     "metadata": {},
     "output_type": "execute_result"
    }
   ],
   "source": [
    "# grouping all images and counting them by each lesion_id\n",
    "df = df_data.groupby('lesion_id').count()\n",
    "\n",
    "# now we filter out lesion_id's that have only one image associated with it\n",
    "df = df[df['image_id'] == 1]\n",
    "\n",
    "df.reset_index(inplace=True)\n",
    "\n",
    "df.head()"
   ]
  },
  {
   "cell_type": "code",
   "execution_count": 9,
   "id": "db5ba89d",
   "metadata": {
    "execution": {
     "iopub.execute_input": "2022-03-10T09:27:23.799529Z",
     "iopub.status.busy": "2022-03-10T09:27:23.798723Z",
     "iopub.status.idle": "2022-03-10T09:27:29.857217Z",
     "shell.execute_reply": "2022-03-10T09:27:29.856679Z",
     "shell.execute_reply.started": "2022-03-10T06:14:40.076939Z"
    },
    "papermill": {
     "duration": 6.10094,
     "end_time": "2022-03-10T09:27:29.857372",
     "exception": false,
     "start_time": "2022-03-10T09:27:23.756432",
     "status": "completed"
    },
    "tags": []
   },
   "outputs": [
    {
     "data": {
      "text/html": [
       "<div>\n",
       "<style scoped>\n",
       "    .dataframe tbody tr th:only-of-type {\n",
       "        vertical-align: middle;\n",
       "    }\n",
       "\n",
       "    .dataframe tbody tr th {\n",
       "        vertical-align: top;\n",
       "    }\n",
       "\n",
       "    .dataframe thead th {\n",
       "        text-align: right;\n",
       "    }\n",
       "</style>\n",
       "<table border=\"1\" class=\"dataframe\">\n",
       "  <thead>\n",
       "    <tr style=\"text-align: right;\">\n",
       "      <th></th>\n",
       "      <th>lesion_id</th>\n",
       "      <th>image_id</th>\n",
       "      <th>dx</th>\n",
       "      <th>dx_type</th>\n",
       "      <th>age</th>\n",
       "      <th>sex</th>\n",
       "      <th>localization</th>\n",
       "      <th>duplicates</th>\n",
       "    </tr>\n",
       "  </thead>\n",
       "  <tbody>\n",
       "    <tr>\n",
       "      <th>0</th>\n",
       "      <td>HAM_0000118</td>\n",
       "      <td>ISIC_0027419</td>\n",
       "      <td>bkl</td>\n",
       "      <td>histo</td>\n",
       "      <td>80.0</td>\n",
       "      <td>male</td>\n",
       "      <td>scalp</td>\n",
       "      <td>has_duplicates</td>\n",
       "    </tr>\n",
       "    <tr>\n",
       "      <th>1</th>\n",
       "      <td>HAM_0000118</td>\n",
       "      <td>ISIC_0025030</td>\n",
       "      <td>bkl</td>\n",
       "      <td>histo</td>\n",
       "      <td>80.0</td>\n",
       "      <td>male</td>\n",
       "      <td>scalp</td>\n",
       "      <td>has_duplicates</td>\n",
       "    </tr>\n",
       "    <tr>\n",
       "      <th>2</th>\n",
       "      <td>HAM_0002730</td>\n",
       "      <td>ISIC_0026769</td>\n",
       "      <td>bkl</td>\n",
       "      <td>histo</td>\n",
       "      <td>80.0</td>\n",
       "      <td>male</td>\n",
       "      <td>scalp</td>\n",
       "      <td>has_duplicates</td>\n",
       "    </tr>\n",
       "    <tr>\n",
       "      <th>3</th>\n",
       "      <td>HAM_0002730</td>\n",
       "      <td>ISIC_0025661</td>\n",
       "      <td>bkl</td>\n",
       "      <td>histo</td>\n",
       "      <td>80.0</td>\n",
       "      <td>male</td>\n",
       "      <td>scalp</td>\n",
       "      <td>has_duplicates</td>\n",
       "    </tr>\n",
       "    <tr>\n",
       "      <th>4</th>\n",
       "      <td>HAM_0001466</td>\n",
       "      <td>ISIC_0031633</td>\n",
       "      <td>bkl</td>\n",
       "      <td>histo</td>\n",
       "      <td>75.0</td>\n",
       "      <td>male</td>\n",
       "      <td>ear</td>\n",
       "      <td>has_duplicates</td>\n",
       "    </tr>\n",
       "  </tbody>\n",
       "</table>\n",
       "</div>"
      ],
      "text/plain": [
       "     lesion_id      image_id   dx dx_type   age   sex localization  \\\n",
       "0  HAM_0000118  ISIC_0027419  bkl   histo  80.0  male        scalp   \n",
       "1  HAM_0000118  ISIC_0025030  bkl   histo  80.0  male        scalp   \n",
       "2  HAM_0002730  ISIC_0026769  bkl   histo  80.0  male        scalp   \n",
       "3  HAM_0002730  ISIC_0025661  bkl   histo  80.0  male        scalp   \n",
       "4  HAM_0001466  ISIC_0031633  bkl   histo  75.0  male          ear   \n",
       "\n",
       "       duplicates  \n",
       "0  has_duplicates  \n",
       "1  has_duplicates  \n",
       "2  has_duplicates  \n",
       "3  has_duplicates  \n",
       "4  has_duplicates  "
      ]
     },
     "execution_count": 9,
     "metadata": {},
     "output_type": "execute_result"
    }
   ],
   "source": [
    "# here we identify lesion_id's that have duplicate images and those that have only\n",
    "# one image.\n",
    "\n",
    "def identify_duplicates(x):\n",
    "    \n",
    "    unique_list = list(df['lesion_id'])\n",
    "    \n",
    "    if x in unique_list:\n",
    "        return 'no_duplicates'\n",
    "    else:\n",
    "        return 'has_duplicates'\n",
    "    \n",
    "# create a new colum that is a copy of the lesion_id column\n",
    "df_data['duplicates'] = df_data['lesion_id']\n",
    "# apply the function to this new column\n",
    "df_data['duplicates'] = df_data['duplicates'].apply(identify_duplicates)\n",
    "\n",
    "df_data.head()"
   ]
  },
  {
   "cell_type": "code",
   "execution_count": 10,
   "id": "ee416edb",
   "metadata": {
    "execution": {
     "iopub.execute_input": "2022-03-10T09:27:29.952019Z",
     "iopub.status.busy": "2022-03-10T09:27:29.951447Z",
     "iopub.status.idle": "2022-03-10T09:27:29.954068Z",
     "shell.execute_reply": "2022-03-10T09:27:29.954467Z",
     "shell.execute_reply.started": "2022-03-10T06:14:46.637393Z"
    },
    "papermill": {
     "duration": 0.052444,
     "end_time": "2022-03-10T09:27:29.954612",
     "exception": false,
     "start_time": "2022-03-10T09:27:29.902168",
     "status": "completed"
    },
    "tags": []
   },
   "outputs": [
    {
     "data": {
      "text/plain": [
       "no_duplicates     5514\n",
       "has_duplicates    4501\n",
       "Name: duplicates, dtype: int64"
      ]
     },
     "execution_count": 10,
     "metadata": {},
     "output_type": "execute_result"
    }
   ],
   "source": [
    "df_data['duplicates'].value_counts()"
   ]
  },
  {
   "cell_type": "code",
   "execution_count": 11,
   "id": "f3555e1e",
   "metadata": {
    "execution": {
     "iopub.execute_input": "2022-03-10T09:27:30.042102Z",
     "iopub.status.busy": "2022-03-10T09:27:30.040328Z",
     "iopub.status.idle": "2022-03-10T09:27:30.047332Z",
     "shell.execute_reply": "2022-03-10T09:27:30.047767Z",
     "shell.execute_reply.started": "2022-03-10T06:14:46.650443Z"
    },
    "papermill": {
     "duration": 0.052854,
     "end_time": "2022-03-10T09:27:30.047912",
     "exception": false,
     "start_time": "2022-03-10T09:27:29.995058",
     "status": "completed"
    },
    "tags": []
   },
   "outputs": [
    {
     "data": {
      "text/plain": [
       "(5514, 8)"
      ]
     },
     "execution_count": 11,
     "metadata": {},
     "output_type": "execute_result"
    }
   ],
   "source": [
    "# now we filter out images that don't have duplicates\n",
    "df = df_data[df_data['duplicates'] == 'no_duplicates']\n",
    "\n",
    "df.shape"
   ]
  },
  {
   "cell_type": "code",
   "execution_count": 12,
   "id": "86d0f49b",
   "metadata": {
    "execution": {
     "iopub.execute_input": "2022-03-10T09:27:30.140147Z",
     "iopub.status.busy": "2022-03-10T09:27:30.139466Z",
     "iopub.status.idle": "2022-03-10T09:27:30.151073Z",
     "shell.execute_reply": "2022-03-10T09:27:30.150466Z",
     "shell.execute_reply.started": "2022-03-10T06:14:46.662134Z"
    },
    "papermill": {
     "duration": 0.061987,
     "end_time": "2022-03-10T09:27:30.151226",
     "exception": false,
     "start_time": "2022-03-10T09:27:30.089239",
     "status": "completed"
    },
    "tags": []
   },
   "outputs": [
    {
     "data": {
      "text/plain": [
       "(938, 8)"
      ]
     },
     "execution_count": 12,
     "metadata": {},
     "output_type": "execute_result"
    }
   ],
   "source": [
    "# now we create a val set using df because we are sure that none of these images\n",
    "# have augmented duplicates in the train set\n",
    "y = df['dx']\n",
    "\n",
    "_, df_val = train_test_split(df, test_size=0.17, random_state=101, stratify=y)\n",
    "\n",
    "df_val.shape"
   ]
  },
  {
   "cell_type": "code",
   "execution_count": 13,
   "id": "13b283c0",
   "metadata": {
    "execution": {
     "iopub.execute_input": "2022-03-10T09:27:30.248598Z",
     "iopub.status.busy": "2022-03-10T09:27:30.247981Z",
     "iopub.status.idle": "2022-03-10T09:27:30.250637Z",
     "shell.execute_reply": "2022-03-10T09:27:30.251036Z",
     "shell.execute_reply.started": "2022-03-10T06:14:46.680549Z"
    },
    "papermill": {
     "duration": 0.051053,
     "end_time": "2022-03-10T09:27:30.251161",
     "exception": false,
     "start_time": "2022-03-10T09:27:30.200108",
     "status": "completed"
    },
    "tags": []
   },
   "outputs": [
    {
     "data": {
      "text/plain": [
       "nv       751\n",
       "bkl       75\n",
       "mel       39\n",
       "bcc       30\n",
       "akiec     26\n",
       "vasc      11\n",
       "df         6\n",
       "Name: dx, dtype: int64"
      ]
     },
     "execution_count": 13,
     "metadata": {},
     "output_type": "execute_result"
    }
   ],
   "source": [
    "df_val['dx'].value_counts()"
   ]
  },
  {
   "cell_type": "code",
   "execution_count": 14,
   "id": "fe5f81a9",
   "metadata": {
    "execution": {
     "iopub.execute_input": "2022-03-10T09:27:30.398565Z",
     "iopub.status.busy": "2022-03-10T09:27:30.367711Z",
     "iopub.status.idle": "2022-03-10T09:27:31.765264Z",
     "shell.execute_reply": "2022-03-10T09:27:31.764800Z",
     "shell.execute_reply.started": "2022-03-10T06:14:46.692619Z"
    },
    "papermill": {
     "duration": 1.47246,
     "end_time": "2022-03-10T09:27:31.765385",
     "exception": false,
     "start_time": "2022-03-10T09:27:30.292925",
     "status": "completed"
    },
    "tags": []
   },
   "outputs": [
    {
     "name": "stdout",
     "output_type": "stream",
     "text": [
      "9077\n",
      "938\n"
     ]
    }
   ],
   "source": [
    "# This set will be df_data excluding all rows that are in the val set\n",
    "\n",
    "# This function identifies if an image is part of the train\n",
    "# or val set.\n",
    "def identify_val_rows(x):\n",
    "    # create a list of all the lesion_id's in the val set\n",
    "    val_list = list(df_val['image_id'])\n",
    "    \n",
    "    if str(x) in val_list:\n",
    "        return 'val'\n",
    "    else:\n",
    "        return 'train'\n",
    "\n",
    "# identify train and val rows\n",
    "\n",
    "# create a new colum that is a copy of the image_id column\n",
    "df_data['train_or_val'] = df_data['image_id']\n",
    "# apply the function to this new column\n",
    "df_data['train_or_val'] = df_data['train_or_val'].apply(identify_val_rows)\n",
    "   \n",
    "# filter out train rows\n",
    "df_train = df_data[df_data['train_or_val'] == 'train']\n",
    "\n",
    "\n",
    "print(len(df_train))\n",
    "print(len(df_val))"
   ]
  },
  {
   "cell_type": "code",
   "execution_count": 15,
   "id": "662ff22a",
   "metadata": {
    "execution": {
     "iopub.execute_input": "2022-03-10T09:27:31.859155Z",
     "iopub.status.busy": "2022-03-10T09:27:31.857643Z",
     "iopub.status.idle": "2022-03-10T09:27:31.862768Z",
     "shell.execute_reply": "2022-03-10T09:27:31.862268Z",
     "shell.execute_reply.started": "2022-03-10T06:14:47.853505Z"
    },
    "papermill": {
     "duration": 0.055049,
     "end_time": "2022-03-10T09:27:31.862884",
     "exception": false,
     "start_time": "2022-03-10T09:27:31.807835",
     "status": "completed"
    },
    "tags": []
   },
   "outputs": [
    {
     "name": "stdout",
     "output_type": "stream",
     "text": [
      "Training data\n",
      " nv       5954\n",
      "mel      1074\n",
      "bkl      1024\n",
      "bcc       484\n",
      "akiec     301\n",
      "vasc      131\n",
      "df        109\n",
      "Name: dx, dtype: int64\n",
      "Validating data\n",
      " nv       751\n",
      "bkl       75\n",
      "mel       39\n",
      "bcc       30\n",
      "akiec     26\n",
      "vasc      11\n",
      "df         6\n",
      "Name: dx, dtype: int64\n"
     ]
    }
   ],
   "source": [
    "print(\"Training data\\n\",df_train['dx'].value_counts())\n",
    "print(\"Validating data\\n\",df_val['dx'].value_counts())"
   ]
  },
  {
   "cell_type": "markdown",
   "id": "10e2b716",
   "metadata": {
    "papermill": {
     "duration": 0.04216,
     "end_time": "2022-03-10T09:27:31.947226",
     "exception": false,
     "start_time": "2022-03-10T09:27:31.905066",
     "status": "completed"
    },
    "tags": []
   },
   "source": [
    "### <font color=deeppink> Transfering the Images into the Folders</font>"
   ]
  },
  {
   "cell_type": "code",
   "execution_count": 16,
   "id": "51b5838c",
   "metadata": {
    "execution": {
     "iopub.execute_input": "2022-03-10T09:27:32.039981Z",
     "iopub.status.busy": "2022-03-10T09:27:32.038164Z",
     "iopub.status.idle": "2022-03-10T09:27:32.040600Z",
     "shell.execute_reply": "2022-03-10T09:27:32.041009Z",
     "shell.execute_reply.started": "2022-03-10T06:14:47.864953Z"
    },
    "papermill": {
     "duration": 0.051783,
     "end_time": "2022-03-10T09:27:32.041143",
     "exception": false,
     "start_time": "2022-03-10T09:27:31.989360",
     "status": "completed"
    },
    "tags": []
   },
   "outputs": [],
   "source": [
    "# Set the image_id as the index in df_data\n",
    "df_data.set_index('image_id', inplace=True)"
   ]
  },
  {
   "cell_type": "code",
   "execution_count": 17,
   "id": "8a33eadc",
   "metadata": {
    "execution": {
     "iopub.execute_input": "2022-03-10T09:27:32.132049Z",
     "iopub.status.busy": "2022-03-10T09:27:32.130508Z",
     "iopub.status.idle": "2022-03-10T09:27:32.132655Z",
     "shell.execute_reply": "2022-03-10T09:27:32.133050Z",
     "shell.execute_reply.started": "2022-03-10T06:14:47.872916Z"
    },
    "papermill": {
     "duration": 0.049126,
     "end_time": "2022-03-10T09:27:32.133173",
     "exception": false,
     "start_time": "2022-03-10T09:27:32.084047",
     "status": "completed"
    },
    "tags": []
   },
   "outputs": [],
   "source": [
    "base_dir = 'base_dir'\n",
    "\n",
    "train_dir = os.path.join(base_dir, 'train_dir')\n",
    "\n",
    "val_dir = os.path.join(base_dir, 'val_dir')"
   ]
  },
  {
   "cell_type": "code",
   "execution_count": 18,
   "id": "cfcb78de",
   "metadata": {
    "execution": {
     "iopub.execute_input": "2022-03-10T09:27:32.228146Z",
     "iopub.status.busy": "2022-03-10T09:27:32.227416Z",
     "iopub.status.idle": "2022-03-10T09:29:08.793298Z",
     "shell.execute_reply": "2022-03-10T09:29:08.792349Z",
     "shell.execute_reply.started": "2022-03-10T06:14:47.880792Z"
    },
    "papermill": {
     "duration": 96.618172,
     "end_time": "2022-03-10T09:29:08.793462",
     "exception": false,
     "start_time": "2022-03-10T09:27:32.175290",
     "status": "completed"
    },
    "tags": []
   },
   "outputs": [],
   "source": [
    "# Get a list of images in each of the two folders\n",
    "folder_1 = os.listdir(dir+'ham10000_images_part_1')\n",
    "folder_2 = os.listdir(dir+'ham10000_images_part_2')\n",
    "\n",
    "# Get a list of train and val images\n",
    "train_list = list(df_train['image_id'])\n",
    "val_list = list(df_val['image_id'])\n",
    "\n",
    "\n",
    "\n",
    "# Transfer the train images\n",
    "\n",
    "for image in train_list:\n",
    "    \n",
    "    fname = image + '.jpg'\n",
    "    label = df_data.loc[image,'dx']\n",
    "    \n",
    "    if fname in folder_1:\n",
    "        # source path to image\n",
    "        src = os.path.join(dir+'ham10000_images_part_1', fname)\n",
    "        # destination path to image\n",
    "        dst = os.path.join(train_dir, label, fname)\n",
    "        # copy the image from the source to the destination\n",
    "        shutil.copyfile(src, dst)\n",
    "\n",
    "    if fname in folder_2:\n",
    "        # source path to image\n",
    "        src = os.path.join(dir+'ham10000_images_part_2', fname)\n",
    "        # destination path to image\n",
    "        dst = os.path.join(train_dir, label, fname)\n",
    "        # copy the image from the source to the destination\n",
    "        shutil.copyfile(src, dst)\n",
    "\n",
    "\n",
    "# Transfer the val images\n",
    "\n",
    "for image in val_list:\n",
    "    \n",
    "    fname = image + '.jpg'\n",
    "    label = df_data.loc[image,'dx']\n",
    "    \n",
    "    if fname in folder_1:\n",
    "        # source path to image\n",
    "        src = os.path.join(dir+'ham10000_images_part_1', fname)\n",
    "        # destination path to image\n",
    "        dst = os.path.join(val_dir, label, fname)\n",
    "        # copy the image from the source to the destination\n",
    "        shutil.copyfile(src, dst)\n",
    "\n",
    "    if fname in folder_2:\n",
    "        # source path to image\n",
    "        src = os.path.join(dir+'ham10000_images_part_2', fname)\n",
    "        # destination path to image\n",
    "        dst = os.path.join(val_dir, label, fname)\n",
    "        # copy the image from the source to the destination\n",
    "        shutil.copyfile(src, dst)\n",
    "        "
   ]
  },
  {
   "cell_type": "code",
   "execution_count": 19,
   "id": "bf219fea",
   "metadata": {
    "execution": {
     "iopub.execute_input": "2022-03-10T09:29:08.886072Z",
     "iopub.status.busy": "2022-03-10T09:29:08.885288Z",
     "iopub.status.idle": "2022-03-10T09:29:08.895584Z",
     "shell.execute_reply": "2022-03-10T09:29:08.895052Z",
     "shell.execute_reply.started": "2022-03-10T06:16:52.295120Z"
    },
    "papermill": {
     "duration": 0.058756,
     "end_time": "2022-03-10T09:29:08.895716",
     "exception": false,
     "start_time": "2022-03-10T09:29:08.836960",
     "status": "completed"
    },
    "tags": []
   },
   "outputs": [
    {
     "name": "stdout",
     "output_type": "stream",
     "text": [
      "5954\n",
      "1074\n",
      "1024\n",
      "484\n",
      "301\n",
      "131\n",
      "109\n"
     ]
    }
   ],
   "source": [
    "# check how many train images we have in each folder\n",
    "\n",
    "print(len(os.listdir('base_dir/train_dir/nv')))\n",
    "print(len(os.listdir('base_dir/train_dir/mel')))\n",
    "print(len(os.listdir('base_dir/train_dir/bkl')))\n",
    "print(len(os.listdir('base_dir/train_dir/bcc')))\n",
    "print(len(os.listdir('base_dir/train_dir/akiec')))\n",
    "print(len(os.listdir('base_dir/train_dir/vasc')))\n",
    "print(len(os.listdir('base_dir/train_dir/df')))"
   ]
  },
  {
   "cell_type": "code",
   "execution_count": 20,
   "id": "548779b5",
   "metadata": {
    "execution": {
     "iopub.execute_input": "2022-03-10T09:29:08.985766Z",
     "iopub.status.busy": "2022-03-10T09:29:08.985255Z",
     "iopub.status.idle": "2022-03-10T09:29:08.992416Z",
     "shell.execute_reply": "2022-03-10T09:29:08.992006Z",
     "shell.execute_reply.started": "2022-03-10T06:16:52.315744Z"
    },
    "papermill": {
     "duration": 0.054161,
     "end_time": "2022-03-10T09:29:08.992546",
     "exception": false,
     "start_time": "2022-03-10T09:29:08.938385",
     "status": "completed"
    },
    "tags": []
   },
   "outputs": [
    {
     "name": "stdout",
     "output_type": "stream",
     "text": [
      "751\n",
      "39\n",
      "75\n",
      "30\n",
      "26\n",
      "11\n",
      "6\n"
     ]
    }
   ],
   "source": [
    "# check how many val images we have in each folder\n",
    "\n",
    "print(len(os.listdir('base_dir/val_dir/nv')))\n",
    "print(len(os.listdir('base_dir/val_dir/mel')))\n",
    "print(len(os.listdir('base_dir/val_dir/bkl')))\n",
    "print(len(os.listdir('base_dir/val_dir/bcc')))\n",
    "print(len(os.listdir('base_dir/val_dir/akiec')))\n",
    "print(len(os.listdir('base_dir/val_dir/vasc')))\n",
    "print(len(os.listdir('base_dir/val_dir/df')))"
   ]
  },
  {
   "cell_type": "code",
   "execution_count": 21,
   "id": "61b017b4",
   "metadata": {
    "execution": {
     "iopub.execute_input": "2022-03-10T09:29:09.084080Z",
     "iopub.status.busy": "2022-03-10T09:29:09.083317Z",
     "iopub.status.idle": "2022-03-10T09:29:09.085302Z",
     "shell.execute_reply": "2022-03-10T09:29:09.085717Z",
     "shell.execute_reply.started": "2022-03-10T06:16:52.327842Z"
    },
    "papermill": {
     "duration": 0.050058,
     "end_time": "2022-03-10T09:29:09.085839",
     "exception": false,
     "start_time": "2022-03-10T09:29:09.035781",
     "status": "completed"
    },
    "tags": []
   },
   "outputs": [],
   "source": [
    "train_path = 'base_dir/train_dir'\n",
    "valid_path = 'base_dir/val_dir'\n",
    "\n",
    "num_train_samples = len(df_train)\n",
    "num_val_samples = len(df_val)\n",
    "train_batch_size = 10\n",
    "val_batch_size = 10\n",
    "image_size = 224\n",
    "\n",
    "train_steps = np.ceil(num_train_samples / train_batch_size)\n",
    "val_steps = np.ceil(num_val_samples / val_batch_size)\n"
   ]
  },
  {
   "cell_type": "code",
   "execution_count": 22,
   "id": "6637161d",
   "metadata": {
    "execution": {
     "iopub.execute_input": "2022-03-10T09:29:09.177543Z",
     "iopub.status.busy": "2022-03-10T09:29:09.177029Z",
     "iopub.status.idle": "2022-03-10T09:29:09.840309Z",
     "shell.execute_reply": "2022-03-10T09:29:09.841377Z",
     "shell.execute_reply.started": "2022-03-10T06:16:52.336489Z"
    },
    "papermill": {
     "duration": 0.713001,
     "end_time": "2022-03-10T09:29:09.841606",
     "exception": false,
     "start_time": "2022-03-10T09:29:09.128605",
     "status": "completed"
    },
    "tags": []
   },
   "outputs": [
    {
     "name": "stdout",
     "output_type": "stream",
     "text": [
      "Found 9077 images belonging to 7 classes.\n",
      "Found 938 images belonging to 7 classes.\n",
      "Found 938 images belonging to 7 classes.\n"
     ]
    }
   ],
   "source": [
    "\n",
    "datagen = ImageDataGenerator(\n",
    "    preprocessing_function= \\\n",
    "    tf.keras.applications.mobilenet.preprocess_input)\n",
    "\n",
    "train_batches = datagen.flow_from_directory(train_path,\n",
    "                                            target_size=(image_size,image_size),\n",
    "                                            batch_size=train_batch_size)\n",
    "\n",
    "valid_batches = datagen.flow_from_directory(valid_path,\n",
    "                                            target_size=(image_size,image_size),\n",
    "                                            batch_size=val_batch_size)\n",
    "\n",
    "# Note: shuffle=False causes the test dataset to not be shuffled\n",
    "test_batches = datagen.flow_from_directory(valid_path,\n",
    "                                            target_size=(image_size,image_size),\n",
    "                                            batch_size=1,\n",
    "                                            shuffle=False)"
   ]
  },
  {
   "cell_type": "markdown",
   "id": "59a7af93",
   "metadata": {
    "papermill": {
     "duration": 0.047779,
     "end_time": "2022-03-10T09:29:09.959550",
     "exception": false,
     "start_time": "2022-03-10T09:29:09.911771",
     "status": "completed"
    },
    "tags": []
   },
   "source": [
    "# <font color=deeppink>  MobileNet </font>"
   ]
  },
  {
   "cell_type": "code",
   "execution_count": 23,
   "id": "48106f21",
   "metadata": {
    "execution": {
     "iopub.execute_input": "2022-03-10T09:29:10.054899Z",
     "iopub.status.busy": "2022-03-10T09:29:10.054176Z",
     "iopub.status.idle": "2022-03-10T09:29:13.061829Z",
     "shell.execute_reply": "2022-03-10T09:29:13.062215Z",
     "shell.execute_reply.started": "2022-03-10T06:16:52.979414Z"
    },
    "papermill": {
     "duration": 3.058355,
     "end_time": "2022-03-10T09:29:13.062362",
     "exception": false,
     "start_time": "2022-03-10T09:29:10.004007",
     "status": "completed"
    },
    "tags": []
   },
   "outputs": [
    {
     "name": "stderr",
     "output_type": "stream",
     "text": [
      "2022-03-10 09:29:10.133691: I tensorflow/stream_executor/cuda/cuda_gpu_executor.cc:937] successful NUMA node read from SysFS had negative value (-1), but there must be at least one NUMA node, so returning NUMA node zero\n",
      "2022-03-10 09:29:10.221267: I tensorflow/stream_executor/cuda/cuda_gpu_executor.cc:937] successful NUMA node read from SysFS had negative value (-1), but there must be at least one NUMA node, so returning NUMA node zero\n",
      "2022-03-10 09:29:10.221953: I tensorflow/stream_executor/cuda/cuda_gpu_executor.cc:937] successful NUMA node read from SysFS had negative value (-1), but there must be at least one NUMA node, so returning NUMA node zero\n",
      "2022-03-10 09:29:10.222988: I tensorflow/core/platform/cpu_feature_guard.cc:142] This TensorFlow binary is optimized with oneAPI Deep Neural Network Library (oneDNN) to use the following CPU instructions in performance-critical operations:  AVX2 AVX512F FMA\n",
      "To enable them in other operations, rebuild TensorFlow with the appropriate compiler flags.\n",
      "2022-03-10 09:29:10.223796: I tensorflow/stream_executor/cuda/cuda_gpu_executor.cc:937] successful NUMA node read from SysFS had negative value (-1), but there must be at least one NUMA node, so returning NUMA node zero\n",
      "2022-03-10 09:29:10.224439: I tensorflow/stream_executor/cuda/cuda_gpu_executor.cc:937] successful NUMA node read from SysFS had negative value (-1), but there must be at least one NUMA node, so returning NUMA node zero\n",
      "2022-03-10 09:29:10.225050: I tensorflow/stream_executor/cuda/cuda_gpu_executor.cc:937] successful NUMA node read from SysFS had negative value (-1), but there must be at least one NUMA node, so returning NUMA node zero\n",
      "2022-03-10 09:29:11.910951: I tensorflow/stream_executor/cuda/cuda_gpu_executor.cc:937] successful NUMA node read from SysFS had negative value (-1), but there must be at least one NUMA node, so returning NUMA node zero\n",
      "2022-03-10 09:29:11.911782: I tensorflow/stream_executor/cuda/cuda_gpu_executor.cc:937] successful NUMA node read from SysFS had negative value (-1), but there must be at least one NUMA node, so returning NUMA node zero\n",
      "2022-03-10 09:29:11.912402: I tensorflow/stream_executor/cuda/cuda_gpu_executor.cc:937] successful NUMA node read from SysFS had negative value (-1), but there must be at least one NUMA node, so returning NUMA node zero\n",
      "2022-03-10 09:29:11.913014: I tensorflow/core/common_runtime/gpu/gpu_device.cc:1510] Created device /job:localhost/replica:0/task:0/device:GPU:0 with 15403 MB memory:  -> device: 0, name: Tesla P100-PCIE-16GB, pci bus id: 0000:00:04.0, compute capability: 6.0\n"
     ]
    },
    {
     "name": "stdout",
     "output_type": "stream",
     "text": [
      "Downloading data from https://storage.googleapis.com/tensorflow/keras-applications/mobilenet/mobilenet_1_0_224_tf.h5\n",
      "17227776/17225924 [==============================] - 0s 0us/step\n",
      "17235968/17225924 [==============================] - 0s 0us/step\n"
     ]
    }
   ],
   "source": [
    "mobile = tf.keras.applications.mobilenet.MobileNet()"
   ]
  },
  {
   "cell_type": "code",
   "execution_count": 24,
   "id": "76ea117f",
   "metadata": {
    "execution": {
     "iopub.execute_input": "2022-03-10T09:29:13.158543Z",
     "iopub.status.busy": "2022-03-10T09:29:13.157978Z",
     "iopub.status.idle": "2022-03-10T09:29:13.197777Z",
     "shell.execute_reply": "2022-03-10T09:29:13.198198Z",
     "shell.execute_reply.started": "2022-03-10T06:16:56.350433Z"
    },
    "papermill": {
     "duration": 0.090226,
     "end_time": "2022-03-10T09:29:13.198326",
     "exception": false,
     "start_time": "2022-03-10T09:29:13.108100",
     "status": "completed"
    },
    "tags": []
   },
   "outputs": [
    {
     "name": "stdout",
     "output_type": "stream",
     "text": [
      "Model: \"mobilenet_1.00_224\"\n",
      "_________________________________________________________________\n",
      "Layer (type)                 Output Shape              Param #   \n",
      "=================================================================\n",
      "input_1 (InputLayer)         [(None, 224, 224, 3)]     0         \n",
      "_________________________________________________________________\n",
      "conv1 (Conv2D)               (None, 112, 112, 32)      864       \n",
      "_________________________________________________________________\n",
      "conv1_bn (BatchNormalization (None, 112, 112, 32)      128       \n",
      "_________________________________________________________________\n",
      "conv1_relu (ReLU)            (None, 112, 112, 32)      0         \n",
      "_________________________________________________________________\n",
      "conv_dw_1 (DepthwiseConv2D)  (None, 112, 112, 32)      288       \n",
      "_________________________________________________________________\n",
      "conv_dw_1_bn (BatchNormaliza (None, 112, 112, 32)      128       \n",
      "_________________________________________________________________\n",
      "conv_dw_1_relu (ReLU)        (None, 112, 112, 32)      0         \n",
      "_________________________________________________________________\n",
      "conv_pw_1 (Conv2D)           (None, 112, 112, 64)      2048      \n",
      "_________________________________________________________________\n",
      "conv_pw_1_bn (BatchNormaliza (None, 112, 112, 64)      256       \n",
      "_________________________________________________________________\n",
      "conv_pw_1_relu (ReLU)        (None, 112, 112, 64)      0         \n",
      "_________________________________________________________________\n",
      "conv_pad_2 (ZeroPadding2D)   (None, 113, 113, 64)      0         \n",
      "_________________________________________________________________\n",
      "conv_dw_2 (DepthwiseConv2D)  (None, 56, 56, 64)        576       \n",
      "_________________________________________________________________\n",
      "conv_dw_2_bn (BatchNormaliza (None, 56, 56, 64)        256       \n",
      "_________________________________________________________________\n",
      "conv_dw_2_relu (ReLU)        (None, 56, 56, 64)        0         \n",
      "_________________________________________________________________\n",
      "conv_pw_2 (Conv2D)           (None, 56, 56, 128)       8192      \n",
      "_________________________________________________________________\n",
      "conv_pw_2_bn (BatchNormaliza (None, 56, 56, 128)       512       \n",
      "_________________________________________________________________\n",
      "conv_pw_2_relu (ReLU)        (None, 56, 56, 128)       0         \n",
      "_________________________________________________________________\n",
      "conv_dw_3 (DepthwiseConv2D)  (None, 56, 56, 128)       1152      \n",
      "_________________________________________________________________\n",
      "conv_dw_3_bn (BatchNormaliza (None, 56, 56, 128)       512       \n",
      "_________________________________________________________________\n",
      "conv_dw_3_relu (ReLU)        (None, 56, 56, 128)       0         \n",
      "_________________________________________________________________\n",
      "conv_pw_3 (Conv2D)           (None, 56, 56, 128)       16384     \n",
      "_________________________________________________________________\n",
      "conv_pw_3_bn (BatchNormaliza (None, 56, 56, 128)       512       \n",
      "_________________________________________________________________\n",
      "conv_pw_3_relu (ReLU)        (None, 56, 56, 128)       0         \n",
      "_________________________________________________________________\n",
      "conv_pad_4 (ZeroPadding2D)   (None, 57, 57, 128)       0         \n",
      "_________________________________________________________________\n",
      "conv_dw_4 (DepthwiseConv2D)  (None, 28, 28, 128)       1152      \n",
      "_________________________________________________________________\n",
      "conv_dw_4_bn (BatchNormaliza (None, 28, 28, 128)       512       \n",
      "_________________________________________________________________\n",
      "conv_dw_4_relu (ReLU)        (None, 28, 28, 128)       0         \n",
      "_________________________________________________________________\n",
      "conv_pw_4 (Conv2D)           (None, 28, 28, 256)       32768     \n",
      "_________________________________________________________________\n",
      "conv_pw_4_bn (BatchNormaliza (None, 28, 28, 256)       1024      \n",
      "_________________________________________________________________\n",
      "conv_pw_4_relu (ReLU)        (None, 28, 28, 256)       0         \n",
      "_________________________________________________________________\n",
      "conv_dw_5 (DepthwiseConv2D)  (None, 28, 28, 256)       2304      \n",
      "_________________________________________________________________\n",
      "conv_dw_5_bn (BatchNormaliza (None, 28, 28, 256)       1024      \n",
      "_________________________________________________________________\n",
      "conv_dw_5_relu (ReLU)        (None, 28, 28, 256)       0         \n",
      "_________________________________________________________________\n",
      "conv_pw_5 (Conv2D)           (None, 28, 28, 256)       65536     \n",
      "_________________________________________________________________\n",
      "conv_pw_5_bn (BatchNormaliza (None, 28, 28, 256)       1024      \n",
      "_________________________________________________________________\n",
      "conv_pw_5_relu (ReLU)        (None, 28, 28, 256)       0         \n",
      "_________________________________________________________________\n",
      "conv_pad_6 (ZeroPadding2D)   (None, 29, 29, 256)       0         \n",
      "_________________________________________________________________\n",
      "conv_dw_6 (DepthwiseConv2D)  (None, 14, 14, 256)       2304      \n",
      "_________________________________________________________________\n",
      "conv_dw_6_bn (BatchNormaliza (None, 14, 14, 256)       1024      \n",
      "_________________________________________________________________\n",
      "conv_dw_6_relu (ReLU)        (None, 14, 14, 256)       0         \n",
      "_________________________________________________________________\n",
      "conv_pw_6 (Conv2D)           (None, 14, 14, 512)       131072    \n",
      "_________________________________________________________________\n",
      "conv_pw_6_bn (BatchNormaliza (None, 14, 14, 512)       2048      \n",
      "_________________________________________________________________\n",
      "conv_pw_6_relu (ReLU)        (None, 14, 14, 512)       0         \n",
      "_________________________________________________________________\n",
      "conv_dw_7 (DepthwiseConv2D)  (None, 14, 14, 512)       4608      \n",
      "_________________________________________________________________\n",
      "conv_dw_7_bn (BatchNormaliza (None, 14, 14, 512)       2048      \n",
      "_________________________________________________________________\n",
      "conv_dw_7_relu (ReLU)        (None, 14, 14, 512)       0         \n",
      "_________________________________________________________________\n",
      "conv_pw_7 (Conv2D)           (None, 14, 14, 512)       262144    \n",
      "_________________________________________________________________\n",
      "conv_pw_7_bn (BatchNormaliza (None, 14, 14, 512)       2048      \n",
      "_________________________________________________________________\n",
      "conv_pw_7_relu (ReLU)        (None, 14, 14, 512)       0         \n",
      "_________________________________________________________________\n",
      "conv_dw_8 (DepthwiseConv2D)  (None, 14, 14, 512)       4608      \n",
      "_________________________________________________________________\n",
      "conv_dw_8_bn (BatchNormaliza (None, 14, 14, 512)       2048      \n",
      "_________________________________________________________________\n",
      "conv_dw_8_relu (ReLU)        (None, 14, 14, 512)       0         \n",
      "_________________________________________________________________\n",
      "conv_pw_8 (Conv2D)           (None, 14, 14, 512)       262144    \n",
      "_________________________________________________________________\n",
      "conv_pw_8_bn (BatchNormaliza (None, 14, 14, 512)       2048      \n",
      "_________________________________________________________________\n",
      "conv_pw_8_relu (ReLU)        (None, 14, 14, 512)       0         \n",
      "_________________________________________________________________\n",
      "conv_dw_9 (DepthwiseConv2D)  (None, 14, 14, 512)       4608      \n",
      "_________________________________________________________________\n",
      "conv_dw_9_bn (BatchNormaliza (None, 14, 14, 512)       2048      \n",
      "_________________________________________________________________\n",
      "conv_dw_9_relu (ReLU)        (None, 14, 14, 512)       0         \n",
      "_________________________________________________________________\n",
      "conv_pw_9 (Conv2D)           (None, 14, 14, 512)       262144    \n",
      "_________________________________________________________________\n",
      "conv_pw_9_bn (BatchNormaliza (None, 14, 14, 512)       2048      \n",
      "_________________________________________________________________\n",
      "conv_pw_9_relu (ReLU)        (None, 14, 14, 512)       0         \n",
      "_________________________________________________________________\n",
      "conv_dw_10 (DepthwiseConv2D) (None, 14, 14, 512)       4608      \n",
      "_________________________________________________________________\n",
      "conv_dw_10_bn (BatchNormaliz (None, 14, 14, 512)       2048      \n",
      "_________________________________________________________________\n",
      "conv_dw_10_relu (ReLU)       (None, 14, 14, 512)       0         \n",
      "_________________________________________________________________\n",
      "conv_pw_10 (Conv2D)          (None, 14, 14, 512)       262144    \n",
      "_________________________________________________________________\n",
      "conv_pw_10_bn (BatchNormaliz (None, 14, 14, 512)       2048      \n",
      "_________________________________________________________________\n",
      "conv_pw_10_relu (ReLU)       (None, 14, 14, 512)       0         \n",
      "_________________________________________________________________\n",
      "conv_dw_11 (DepthwiseConv2D) (None, 14, 14, 512)       4608      \n",
      "_________________________________________________________________\n",
      "conv_dw_11_bn (BatchNormaliz (None, 14, 14, 512)       2048      \n",
      "_________________________________________________________________\n",
      "conv_dw_11_relu (ReLU)       (None, 14, 14, 512)       0         \n",
      "_________________________________________________________________\n",
      "conv_pw_11 (Conv2D)          (None, 14, 14, 512)       262144    \n",
      "_________________________________________________________________\n",
      "conv_pw_11_bn (BatchNormaliz (None, 14, 14, 512)       2048      \n",
      "_________________________________________________________________\n",
      "conv_pw_11_relu (ReLU)       (None, 14, 14, 512)       0         \n",
      "_________________________________________________________________\n",
      "conv_pad_12 (ZeroPadding2D)  (None, 15, 15, 512)       0         \n",
      "_________________________________________________________________\n",
      "conv_dw_12 (DepthwiseConv2D) (None, 7, 7, 512)         4608      \n",
      "_________________________________________________________________\n",
      "conv_dw_12_bn (BatchNormaliz (None, 7, 7, 512)         2048      \n",
      "_________________________________________________________________\n",
      "conv_dw_12_relu (ReLU)       (None, 7, 7, 512)         0         \n",
      "_________________________________________________________________\n",
      "conv_pw_12 (Conv2D)          (None, 7, 7, 1024)        524288    \n",
      "_________________________________________________________________\n",
      "conv_pw_12_bn (BatchNormaliz (None, 7, 7, 1024)        4096      \n",
      "_________________________________________________________________\n",
      "conv_pw_12_relu (ReLU)       (None, 7, 7, 1024)        0         \n",
      "_________________________________________________________________\n",
      "conv_dw_13 (DepthwiseConv2D) (None, 7, 7, 1024)        9216      \n",
      "_________________________________________________________________\n",
      "conv_dw_13_bn (BatchNormaliz (None, 7, 7, 1024)        4096      \n",
      "_________________________________________________________________\n",
      "conv_dw_13_relu (ReLU)       (None, 7, 7, 1024)        0         \n",
      "_________________________________________________________________\n",
      "conv_pw_13 (Conv2D)          (None, 7, 7, 1024)        1048576   \n",
      "_________________________________________________________________\n",
      "conv_pw_13_bn (BatchNormaliz (None, 7, 7, 1024)        4096      \n",
      "_________________________________________________________________\n",
      "conv_pw_13_relu (ReLU)       (None, 7, 7, 1024)        0         \n",
      "_________________________________________________________________\n",
      "global_average_pooling2d (Gl (None, 1024)              0         \n",
      "_________________________________________________________________\n",
      "reshape_1 (Reshape)          (None, 1, 1, 1024)        0         \n",
      "_________________________________________________________________\n",
      "dropout (Dropout)            (None, 1, 1, 1024)        0         \n",
      "_________________________________________________________________\n",
      "conv_preds (Conv2D)          (None, 1, 1, 1000)        1025000   \n",
      "_________________________________________________________________\n",
      "reshape_2 (Reshape)          (None, 1000)              0         \n",
      "_________________________________________________________________\n",
      "predictions (Activation)     (None, 1000)              0         \n",
      "=================================================================\n",
      "Total params: 4,253,864\n",
      "Trainable params: 4,231,976\n",
      "Non-trainable params: 21,888\n",
      "_________________________________________________________________\n"
     ]
    }
   ],
   "source": [
    "mobile.summary()"
   ]
  },
  {
   "cell_type": "code",
   "execution_count": 25,
   "id": "fca6c6a5",
   "metadata": {
    "execution": {
     "iopub.execute_input": "2022-03-10T09:29:13.294246Z",
     "iopub.status.busy": "2022-03-10T09:29:13.293425Z",
     "iopub.status.idle": "2022-03-10T09:29:13.297157Z",
     "shell.execute_reply": "2022-03-10T09:29:13.297557Z",
     "shell.execute_reply.started": "2022-03-10T06:16:56.399281Z"
    },
    "papermill": {
     "duration": 0.053528,
     "end_time": "2022-03-10T09:29:13.297682",
     "exception": false,
     "start_time": "2022-03-10T09:29:13.244154",
     "status": "completed"
    },
    "tags": []
   },
   "outputs": [
    {
     "data": {
      "text/plain": [
       "92"
      ]
     },
     "execution_count": 25,
     "metadata": {},
     "output_type": "execute_result"
    }
   ],
   "source": [
    "#layers in mobile net\n",
    "len(mobile.layers)"
   ]
  },
  {
   "cell_type": "code",
   "execution_count": 26,
   "id": "416ef2a1",
   "metadata": {
    "execution": {
     "iopub.execute_input": "2022-03-10T09:29:13.397753Z",
     "iopub.status.busy": "2022-03-10T09:29:13.392257Z",
     "iopub.status.idle": "2022-03-10T09:29:13.421600Z",
     "shell.execute_reply": "2022-03-10T09:29:13.421986Z",
     "shell.execute_reply.started": "2022-03-10T06:16:56.405350Z"
    },
    "papermill": {
     "duration": 0.077739,
     "end_time": "2022-03-10T09:29:13.422109",
     "exception": false,
     "start_time": "2022-03-10T09:29:13.344370",
     "status": "completed"
    },
    "tags": []
   },
   "outputs": [],
   "source": [
    "# CREATE THE MODEL ARCHITECTURE\n",
    "\n",
    "# Exclude the last 5 layers of the above model.\n",
    "# This will include all layers up to and including global_average_pooling2d_1\n",
    "x = mobile.layers[-6].output\n",
    "\n",
    "# Create a new dense layer for predictions\n",
    "# Flatten the output layer to 1 dimension\n",
    "x = tf.keras.layers.Flatten()(x)\n",
    "# # Create a new dense layer for predictions\n",
    "x = tf.keras.layers.Dense(1024, activation='relu')(x)\n",
    "# 7 corresponds to the number of classes\n",
    "x = tf.keras.layers.Dropout(0.25)(x)\n",
    "predictions = tf.keras.layers.Dense(7, activation='softmax')(x)\n",
    "\n",
    "# inputs=mobile.input selects the input layer, outputs=predictions refers to the\n",
    "# dense layer we created above.\n",
    "\n",
    "model = tf.keras.Model(inputs=mobile.input, outputs=predictions)"
   ]
  },
  {
   "cell_type": "code",
   "execution_count": 27,
   "id": "9b34580f",
   "metadata": {
    "execution": {
     "iopub.execute_input": "2022-03-10T09:29:13.518965Z",
     "iopub.status.busy": "2022-03-10T09:29:13.518138Z",
     "iopub.status.idle": "2022-03-10T09:29:13.559351Z",
     "shell.execute_reply": "2022-03-10T09:29:13.558935Z",
     "shell.execute_reply.started": "2022-03-10T06:16:56.443185Z"
    },
    "papermill": {
     "duration": 0.090546,
     "end_time": "2022-03-10T09:29:13.559448",
     "exception": false,
     "start_time": "2022-03-10T09:29:13.468902",
     "status": "completed"
    },
    "tags": []
   },
   "outputs": [
    {
     "name": "stdout",
     "output_type": "stream",
     "text": [
      "Model: \"model\"\n",
      "_________________________________________________________________\n",
      "Layer (type)                 Output Shape              Param #   \n",
      "=================================================================\n",
      "input_1 (InputLayer)         [(None, 224, 224, 3)]     0         \n",
      "_________________________________________________________________\n",
      "conv1 (Conv2D)               (None, 112, 112, 32)      864       \n",
      "_________________________________________________________________\n",
      "conv1_bn (BatchNormalization (None, 112, 112, 32)      128       \n",
      "_________________________________________________________________\n",
      "conv1_relu (ReLU)            (None, 112, 112, 32)      0         \n",
      "_________________________________________________________________\n",
      "conv_dw_1 (DepthwiseConv2D)  (None, 112, 112, 32)      288       \n",
      "_________________________________________________________________\n",
      "conv_dw_1_bn (BatchNormaliza (None, 112, 112, 32)      128       \n",
      "_________________________________________________________________\n",
      "conv_dw_1_relu (ReLU)        (None, 112, 112, 32)      0         \n",
      "_________________________________________________________________\n",
      "conv_pw_1 (Conv2D)           (None, 112, 112, 64)      2048      \n",
      "_________________________________________________________________\n",
      "conv_pw_1_bn (BatchNormaliza (None, 112, 112, 64)      256       \n",
      "_________________________________________________________________\n",
      "conv_pw_1_relu (ReLU)        (None, 112, 112, 64)      0         \n",
      "_________________________________________________________________\n",
      "conv_pad_2 (ZeroPadding2D)   (None, 113, 113, 64)      0         \n",
      "_________________________________________________________________\n",
      "conv_dw_2 (DepthwiseConv2D)  (None, 56, 56, 64)        576       \n",
      "_________________________________________________________________\n",
      "conv_dw_2_bn (BatchNormaliza (None, 56, 56, 64)        256       \n",
      "_________________________________________________________________\n",
      "conv_dw_2_relu (ReLU)        (None, 56, 56, 64)        0         \n",
      "_________________________________________________________________\n",
      "conv_pw_2 (Conv2D)           (None, 56, 56, 128)       8192      \n",
      "_________________________________________________________________\n",
      "conv_pw_2_bn (BatchNormaliza (None, 56, 56, 128)       512       \n",
      "_________________________________________________________________\n",
      "conv_pw_2_relu (ReLU)        (None, 56, 56, 128)       0         \n",
      "_________________________________________________________________\n",
      "conv_dw_3 (DepthwiseConv2D)  (None, 56, 56, 128)       1152      \n",
      "_________________________________________________________________\n",
      "conv_dw_3_bn (BatchNormaliza (None, 56, 56, 128)       512       \n",
      "_________________________________________________________________\n",
      "conv_dw_3_relu (ReLU)        (None, 56, 56, 128)       0         \n",
      "_________________________________________________________________\n",
      "conv_pw_3 (Conv2D)           (None, 56, 56, 128)       16384     \n",
      "_________________________________________________________________\n",
      "conv_pw_3_bn (BatchNormaliza (None, 56, 56, 128)       512       \n",
      "_________________________________________________________________\n",
      "conv_pw_3_relu (ReLU)        (None, 56, 56, 128)       0         \n",
      "_________________________________________________________________\n",
      "conv_pad_4 (ZeroPadding2D)   (None, 57, 57, 128)       0         \n",
      "_________________________________________________________________\n",
      "conv_dw_4 (DepthwiseConv2D)  (None, 28, 28, 128)       1152      \n",
      "_________________________________________________________________\n",
      "conv_dw_4_bn (BatchNormaliza (None, 28, 28, 128)       512       \n",
      "_________________________________________________________________\n",
      "conv_dw_4_relu (ReLU)        (None, 28, 28, 128)       0         \n",
      "_________________________________________________________________\n",
      "conv_pw_4 (Conv2D)           (None, 28, 28, 256)       32768     \n",
      "_________________________________________________________________\n",
      "conv_pw_4_bn (BatchNormaliza (None, 28, 28, 256)       1024      \n",
      "_________________________________________________________________\n",
      "conv_pw_4_relu (ReLU)        (None, 28, 28, 256)       0         \n",
      "_________________________________________________________________\n",
      "conv_dw_5 (DepthwiseConv2D)  (None, 28, 28, 256)       2304      \n",
      "_________________________________________________________________\n",
      "conv_dw_5_bn (BatchNormaliza (None, 28, 28, 256)       1024      \n",
      "_________________________________________________________________\n",
      "conv_dw_5_relu (ReLU)        (None, 28, 28, 256)       0         \n",
      "_________________________________________________________________\n",
      "conv_pw_5 (Conv2D)           (None, 28, 28, 256)       65536     \n",
      "_________________________________________________________________\n",
      "conv_pw_5_bn (BatchNormaliza (None, 28, 28, 256)       1024      \n",
      "_________________________________________________________________\n",
      "conv_pw_5_relu (ReLU)        (None, 28, 28, 256)       0         \n",
      "_________________________________________________________________\n",
      "conv_pad_6 (ZeroPadding2D)   (None, 29, 29, 256)       0         \n",
      "_________________________________________________________________\n",
      "conv_dw_6 (DepthwiseConv2D)  (None, 14, 14, 256)       2304      \n",
      "_________________________________________________________________\n",
      "conv_dw_6_bn (BatchNormaliza (None, 14, 14, 256)       1024      \n",
      "_________________________________________________________________\n",
      "conv_dw_6_relu (ReLU)        (None, 14, 14, 256)       0         \n",
      "_________________________________________________________________\n",
      "conv_pw_6 (Conv2D)           (None, 14, 14, 512)       131072    \n",
      "_________________________________________________________________\n",
      "conv_pw_6_bn (BatchNormaliza (None, 14, 14, 512)       2048      \n",
      "_________________________________________________________________\n",
      "conv_pw_6_relu (ReLU)        (None, 14, 14, 512)       0         \n",
      "_________________________________________________________________\n",
      "conv_dw_7 (DepthwiseConv2D)  (None, 14, 14, 512)       4608      \n",
      "_________________________________________________________________\n",
      "conv_dw_7_bn (BatchNormaliza (None, 14, 14, 512)       2048      \n",
      "_________________________________________________________________\n",
      "conv_dw_7_relu (ReLU)        (None, 14, 14, 512)       0         \n",
      "_________________________________________________________________\n",
      "conv_pw_7 (Conv2D)           (None, 14, 14, 512)       262144    \n",
      "_________________________________________________________________\n",
      "conv_pw_7_bn (BatchNormaliza (None, 14, 14, 512)       2048      \n",
      "_________________________________________________________________\n",
      "conv_pw_7_relu (ReLU)        (None, 14, 14, 512)       0         \n",
      "_________________________________________________________________\n",
      "conv_dw_8 (DepthwiseConv2D)  (None, 14, 14, 512)       4608      \n",
      "_________________________________________________________________\n",
      "conv_dw_8_bn (BatchNormaliza (None, 14, 14, 512)       2048      \n",
      "_________________________________________________________________\n",
      "conv_dw_8_relu (ReLU)        (None, 14, 14, 512)       0         \n",
      "_________________________________________________________________\n",
      "conv_pw_8 (Conv2D)           (None, 14, 14, 512)       262144    \n",
      "_________________________________________________________________\n",
      "conv_pw_8_bn (BatchNormaliza (None, 14, 14, 512)       2048      \n",
      "_________________________________________________________________\n",
      "conv_pw_8_relu (ReLU)        (None, 14, 14, 512)       0         \n",
      "_________________________________________________________________\n",
      "conv_dw_9 (DepthwiseConv2D)  (None, 14, 14, 512)       4608      \n",
      "_________________________________________________________________\n",
      "conv_dw_9_bn (BatchNormaliza (None, 14, 14, 512)       2048      \n",
      "_________________________________________________________________\n",
      "conv_dw_9_relu (ReLU)        (None, 14, 14, 512)       0         \n",
      "_________________________________________________________________\n",
      "conv_pw_9 (Conv2D)           (None, 14, 14, 512)       262144    \n",
      "_________________________________________________________________\n",
      "conv_pw_9_bn (BatchNormaliza (None, 14, 14, 512)       2048      \n",
      "_________________________________________________________________\n",
      "conv_pw_9_relu (ReLU)        (None, 14, 14, 512)       0         \n",
      "_________________________________________________________________\n",
      "conv_dw_10 (DepthwiseConv2D) (None, 14, 14, 512)       4608      \n",
      "_________________________________________________________________\n",
      "conv_dw_10_bn (BatchNormaliz (None, 14, 14, 512)       2048      \n",
      "_________________________________________________________________\n",
      "conv_dw_10_relu (ReLU)       (None, 14, 14, 512)       0         \n",
      "_________________________________________________________________\n",
      "conv_pw_10 (Conv2D)          (None, 14, 14, 512)       262144    \n",
      "_________________________________________________________________\n",
      "conv_pw_10_bn (BatchNormaliz (None, 14, 14, 512)       2048      \n",
      "_________________________________________________________________\n",
      "conv_pw_10_relu (ReLU)       (None, 14, 14, 512)       0         \n",
      "_________________________________________________________________\n",
      "conv_dw_11 (DepthwiseConv2D) (None, 14, 14, 512)       4608      \n",
      "_________________________________________________________________\n",
      "conv_dw_11_bn (BatchNormaliz (None, 14, 14, 512)       2048      \n",
      "_________________________________________________________________\n",
      "conv_dw_11_relu (ReLU)       (None, 14, 14, 512)       0         \n",
      "_________________________________________________________________\n",
      "conv_pw_11 (Conv2D)          (None, 14, 14, 512)       262144    \n",
      "_________________________________________________________________\n",
      "conv_pw_11_bn (BatchNormaliz (None, 14, 14, 512)       2048      \n",
      "_________________________________________________________________\n",
      "conv_pw_11_relu (ReLU)       (None, 14, 14, 512)       0         \n",
      "_________________________________________________________________\n",
      "conv_pad_12 (ZeroPadding2D)  (None, 15, 15, 512)       0         \n",
      "_________________________________________________________________\n",
      "conv_dw_12 (DepthwiseConv2D) (None, 7, 7, 512)         4608      \n",
      "_________________________________________________________________\n",
      "conv_dw_12_bn (BatchNormaliz (None, 7, 7, 512)         2048      \n",
      "_________________________________________________________________\n",
      "conv_dw_12_relu (ReLU)       (None, 7, 7, 512)         0         \n",
      "_________________________________________________________________\n",
      "conv_pw_12 (Conv2D)          (None, 7, 7, 1024)        524288    \n",
      "_________________________________________________________________\n",
      "conv_pw_12_bn (BatchNormaliz (None, 7, 7, 1024)        4096      \n",
      "_________________________________________________________________\n",
      "conv_pw_12_relu (ReLU)       (None, 7, 7, 1024)        0         \n",
      "_________________________________________________________________\n",
      "conv_dw_13 (DepthwiseConv2D) (None, 7, 7, 1024)        9216      \n",
      "_________________________________________________________________\n",
      "conv_dw_13_bn (BatchNormaliz (None, 7, 7, 1024)        4096      \n",
      "_________________________________________________________________\n",
      "conv_dw_13_relu (ReLU)       (None, 7, 7, 1024)        0         \n",
      "_________________________________________________________________\n",
      "conv_pw_13 (Conv2D)          (None, 7, 7, 1024)        1048576   \n",
      "_________________________________________________________________\n",
      "conv_pw_13_bn (BatchNormaliz (None, 7, 7, 1024)        4096      \n",
      "_________________________________________________________________\n",
      "conv_pw_13_relu (ReLU)       (None, 7, 7, 1024)        0         \n",
      "_________________________________________________________________\n",
      "global_average_pooling2d (Gl (None, 1024)              0         \n",
      "_________________________________________________________________\n",
      "flatten (Flatten)            (None, 1024)              0         \n",
      "_________________________________________________________________\n",
      "dense (Dense)                (None, 1024)              1049600   \n",
      "_________________________________________________________________\n",
      "dropout (Dropout)            (None, 1024)              0         \n",
      "_________________________________________________________________\n",
      "dense_1 (Dense)              (None, 7)                 7175      \n",
      "=================================================================\n",
      "Total params: 4,285,639\n",
      "Trainable params: 4,263,751\n",
      "Non-trainable params: 21,888\n",
      "_________________________________________________________________\n"
     ]
    }
   ],
   "source": [
    "model.summary()"
   ]
  },
  {
   "cell_type": "code",
   "execution_count": 28,
   "id": "1ab58dd3",
   "metadata": {
    "execution": {
     "iopub.execute_input": "2022-03-10T09:29:13.660588Z",
     "iopub.status.busy": "2022-03-10T09:29:13.659747Z",
     "iopub.status.idle": "2022-03-10T09:29:13.661734Z",
     "shell.execute_reply": "2022-03-10T09:29:13.662144Z",
     "shell.execute_reply.started": "2022-03-10T06:16:56.486758Z"
    },
    "papermill": {
     "duration": 0.055432,
     "end_time": "2022-03-10T09:29:13.662273",
     "exception": false,
     "start_time": "2022-03-10T09:29:13.606841",
     "status": "completed"
    },
    "tags": []
   },
   "outputs": [],
   "source": [
    "# We need to choose how many layers we actually want to be trained.\n",
    "\n",
    "# Here we are freezing the weights of all layers except the\n",
    "# last 25 layers in the new model.\n",
    "# The last 25 layers of the model will be trained.\n",
    "\n",
    "for layer in model.layers[:-25]:\n",
    "    layer.trainable = False\n",
    "\n",
    "# model.trainable = False # We don't want to re-train the pre-trained weights"
   ]
  },
  {
   "cell_type": "code",
   "execution_count": 29,
   "id": "c6c1cdb2",
   "metadata": {
    "execution": {
     "iopub.execute_input": "2022-03-10T09:29:13.765621Z",
     "iopub.status.busy": "2022-03-10T09:29:13.764884Z",
     "iopub.status.idle": "2022-03-10T09:29:13.772406Z",
     "shell.execute_reply": "2022-03-10T09:29:13.771984Z",
     "shell.execute_reply.started": "2022-03-10T06:16:56.494664Z"
    },
    "papermill": {
     "duration": 0.063248,
     "end_time": "2022-03-10T09:29:13.772535",
     "exception": false,
     "start_time": "2022-03-10T09:29:13.709287",
     "status": "completed"
    },
    "tags": []
   },
   "outputs": [],
   "source": [
    "model.compile(tf.keras.optimizers.Adam(learning_rate=0.00001), loss='categorical_crossentropy', \n",
    "              metrics=['accuracy'])"
   ]
  },
  {
   "cell_type": "code",
   "execution_count": 30,
   "id": "dbceeb1c",
   "metadata": {
    "execution": {
     "iopub.execute_input": "2022-03-10T09:29:13.873250Z",
     "iopub.status.busy": "2022-03-10T09:29:13.872663Z",
     "iopub.status.idle": "2022-03-10T09:29:13.875175Z",
     "shell.execute_reply": "2022-03-10T09:29:13.875615Z",
     "shell.execute_reply.started": "2022-03-10T06:16:56.514386Z"
    },
    "papermill": {
     "duration": 0.055196,
     "end_time": "2022-03-10T09:29:13.875742",
     "exception": false,
     "start_time": "2022-03-10T09:29:13.820546",
     "status": "completed"
    },
    "tags": []
   },
   "outputs": [
    {
     "name": "stdout",
     "output_type": "stream",
     "text": [
      "{'akiec': 0, 'bcc': 1, 'bkl': 2, 'df': 3, 'mel': 4, 'nv': 5, 'vasc': 6}\n"
     ]
    }
   ],
   "source": [
    "# Get the labels that are associated with each index\n",
    "print(valid_batches.class_indices)"
   ]
  },
  {
   "cell_type": "code",
   "execution_count": 31,
   "id": "bca47f1d",
   "metadata": {
    "execution": {
     "iopub.execute_input": "2022-03-10T09:29:13.987609Z",
     "iopub.status.busy": "2022-03-10T09:29:13.986823Z",
     "iopub.status.idle": "2022-03-10T09:38:04.235310Z",
     "shell.execute_reply": "2022-03-10T09:38:04.236066Z",
     "shell.execute_reply.started": "2022-03-10T06:16:56.520916Z"
    },
    "papermill": {
     "duration": 530.312929,
     "end_time": "2022-03-10T09:38:04.236293",
     "exception": false,
     "start_time": "2022-03-10T09:29:13.923364",
     "status": "completed"
    },
    "tags": []
   },
   "outputs": [
    {
     "name": "stderr",
     "output_type": "stream",
     "text": [
      "2022-03-10 09:29:14.148706: I tensorflow/compiler/mlir/mlir_graph_optimization_pass.cc:185] None of the MLIR Optimization Passes are enabled (registered 2)\n"
     ]
    },
    {
     "name": "stdout",
     "output_type": "stream",
     "text": [
      "Epoch 1/5\n"
     ]
    },
    {
     "name": "stderr",
     "output_type": "stream",
     "text": [
      "2022-03-10 09:29:16.490495: I tensorflow/stream_executor/cuda/cuda_dnn.cc:369] Loaded cuDNN version 8005\n"
     ]
    },
    {
     "name": "stdout",
     "output_type": "stream",
     "text": [
      "908/908 [==============================] - 102s 104ms/step - loss: 0.9728 - accuracy: 0.6698 - val_loss: 0.4656 - val_accuracy: 0.8507\n",
      "Epoch 2/5\n",
      "908/908 [==============================] - 93s 103ms/step - loss: 0.7837 - accuracy: 0.7197 - val_loss: 0.4010 - val_accuracy: 0.8742\n",
      "Epoch 3/5\n",
      "908/908 [==============================] - 94s 104ms/step - loss: 0.6987 - accuracy: 0.7527 - val_loss: 0.3740 - val_accuracy: 0.8838\n",
      "Epoch 4/5\n",
      "908/908 [==============================] - 94s 104ms/step - loss: 0.6309 - accuracy: 0.7702 - val_loss: 0.3513 - val_accuracy: 0.8859\n",
      "Epoch 5/5\n",
      "908/908 [==============================] - 97s 107ms/step - loss: 0.5878 - accuracy: 0.7902 - val_loss: 0.3407 - val_accuracy: 0.8987\n"
     ]
    }
   ],
   "source": [
    "train = model.fit(train_batches, steps_per_epoch=train_steps, \n",
    "\n",
    "                    validation_data=valid_batches,\n",
    "                    validation_steps=val_steps,\n",
    "                    epochs=5, verbose=1)"
   ]
  },
  {
   "cell_type": "markdown",
   "id": "f006a010",
   "metadata": {
    "papermill": {
     "duration": 1.468236,
     "end_time": "2022-03-10T09:38:07.131380",
     "exception": false,
     "start_time": "2022-03-10T09:38:05.663144",
     "status": "completed"
    },
    "tags": []
   },
   "source": [
    "Evaluate the model using the val set"
   ]
  },
  {
   "cell_type": "code",
   "execution_count": 32,
   "id": "2d190769",
   "metadata": {
    "execution": {
     "iopub.execute_input": "2022-03-10T09:38:10.280023Z",
     "iopub.status.busy": "2022-03-10T09:38:10.279132Z",
     "iopub.status.idle": "2022-03-10T09:38:10.282025Z",
     "shell.execute_reply": "2022-03-10T09:38:10.282586Z",
     "shell.execute_reply.started": "2022-03-10T06:32:50.587687Z"
    },
    "papermill": {
     "duration": 1.558239,
     "end_time": "2022-03-10T09:38:10.282741",
     "exception": false,
     "start_time": "2022-03-10T09:38:08.724502",
     "status": "completed"
    },
    "tags": []
   },
   "outputs": [
    {
     "data": {
      "text/plain": [
       "['loss', 'accuracy']"
      ]
     },
     "execution_count": 32,
     "metadata": {},
     "output_type": "execute_result"
    }
   ],
   "source": [
    "model.metrics_names"
   ]
  },
  {
   "cell_type": "code",
   "execution_count": 33,
   "id": "f58216e5",
   "metadata": {
    "execution": {
     "iopub.execute_input": "2022-03-10T09:38:13.167557Z",
     "iopub.status.busy": "2022-03-10T09:38:13.166672Z",
     "iopub.status.idle": "2022-03-10T09:38:24.591784Z",
     "shell.execute_reply": "2022-03-10T09:38:24.591302Z",
     "shell.execute_reply.started": "2022-03-10T06:32:50.595602Z"
    },
    "papermill": {
     "duration": 12.88379,
     "end_time": "2022-03-10T09:38:24.591914",
     "exception": false,
     "start_time": "2022-03-10T09:38:11.708124",
     "status": "completed"
    },
    "tags": []
   },
   "outputs": [
    {
     "name": "stdout",
     "output_type": "stream",
     "text": [
      "938/938 [==============================] - 11s 12ms/step - loss: 0.3407 - accuracy: 0.8987\n",
      "val_loss: 0.3406875729560852\n",
      "val_acc: 0.8987206816673279\n"
     ]
    }
   ],
   "source": [
    "val_loss, val_acc = model.evaluate(test_batches, steps=len(df_val))\n",
    "\n",
    "print('val_loss:', val_loss)\n",
    "print('val_acc:', val_acc)"
   ]
  },
  {
   "cell_type": "code",
   "execution_count": 34,
   "id": "66ee0648",
   "metadata": {
    "execution": {
     "iopub.execute_input": "2022-03-10T09:38:27.629987Z",
     "iopub.status.busy": "2022-03-10T09:38:27.629188Z",
     "iopub.status.idle": "2022-03-10T09:39:00.079801Z",
     "shell.execute_reply": "2022-03-10T09:39:00.080238Z",
     "shell.execute_reply.started": "2022-03-10T06:43:13.946992Z"
    },
    "papermill": {
     "duration": 33.998874,
     "end_time": "2022-03-10T09:39:00.080379",
     "exception": false,
     "start_time": "2022-03-10T09:38:26.081505",
     "status": "completed"
    },
    "tags": []
   },
   "outputs": [
    {
     "name": "stdout",
     "output_type": "stream",
     "text": [
      "938/938 [==============================] - 11s 11ms/step - loss: 0.3407 - accuracy: 0.8987\n",
      "938/938 [==============================] - 9s 10ms/step - loss: 0.3407 - accuracy: 0.8987\n",
      "Validation: accuracy = 0.898721  ;  loss_v = 0.340688\n",
      "Test: accuracy = 0.898721  ;  loss = 0.340688\n"
     ]
    }
   ],
   "source": [
    "loss, accuracy = model.evaluate(test_batches)\n",
    "loss_v, accuracy_v = model.evaluate(valid_batches,steps=len(df_val))\n",
    "print(\"Validation: accuracy = %f  ;  loss_v = %f\" % (accuracy_v, loss_v))\n",
    "print(\"Test: accuracy = %f  ;  loss = %f\" % (accuracy, loss))"
   ]
  },
  {
   "cell_type": "markdown",
   "id": "72e6a707",
   "metadata": {
    "papermill": {
     "duration": 1.586829,
     "end_time": "2022-03-10T09:39:03.260866",
     "exception": false,
     "start_time": "2022-03-10T09:39:01.674037",
     "status": "completed"
    },
    "tags": []
   },
   "source": [
    "### Plotting graph training vs validation"
   ]
  },
  {
   "cell_type": "code",
   "execution_count": 35,
   "id": "fa1e30a7",
   "metadata": {
    "execution": {
     "iopub.execute_input": "2022-03-10T09:39:06.756005Z",
     "iopub.status.busy": "2022-03-10T09:39:06.755031Z",
     "iopub.status.idle": "2022-03-10T09:39:07.080283Z",
     "shell.execute_reply": "2022-03-10T09:39:07.080766Z",
     "shell.execute_reply.started": "2022-03-10T06:33:01.910307Z"
    },
    "papermill": {
     "duration": 1.971041,
     "end_time": "2022-03-10T09:39:07.080926",
     "exception": false,
     "start_time": "2022-03-10T09:39:05.109885",
     "status": "completed"
    },
    "tags": []
   },
   "outputs": [
    {
     "data": {
      "image/png": "[encoded data removed]",
      "text/plain": [
       "<Figure size 1080x360 with 2 Axes>"
      ]
     },
     "metadata": {
      "needs_background": "light"
     },
     "output_type": "display_data"
    }
   ],
   "source": [
    "plt.figure(figsize=(15,5))\n",
    "plt.subplot(1, 2, 1)\n",
    "plt.plot(train.history['accuracy'],'r', label='accuracy')\n",
    "plt.plot(train.history['val_accuracy'],'b', label = 'val_accuracy')\n",
    "plt.xlabel('Epoch')\n",
    "plt.ylabel('Accuracy')\n",
    "plt.legend()\n",
    "# plt.show()\n",
    "plt.subplot(1, 2, 2)\n",
    "plt.plot(train.history['loss'],'r', label='loss')\n",
    "plt.plot(train.history['val_loss'],'b', label = 'val_loss')\n",
    "plt.xlabel('Epoch')\n",
    "plt.ylabel('Loss')\n",
    "plt.legend()\n",
    "plt.show()"
   ]
  },
  {
   "cell_type": "code",
   "execution_count": 36,
   "id": "75c7ecdd",
   "metadata": {
    "execution": {
     "iopub.execute_input": "2022-03-10T09:39:10.276017Z",
     "iopub.status.busy": "2022-03-10T09:39:10.274139Z",
     "iopub.status.idle": "2022-03-10T09:39:10.278211Z",
     "shell.execute_reply": "2022-03-10T09:39:10.277771Z",
     "shell.execute_reply.started": "2022-03-10T06:33:02.308577Z"
    },
    "papermill": {
     "duration": 1.586978,
     "end_time": "2022-03-10T09:39:10.278322",
     "exception": false,
     "start_time": "2022-03-10T09:39:08.691344",
     "status": "completed"
    },
    "tags": []
   },
   "outputs": [
    {
     "name": "stdout",
     "output_type": "stream",
     "text": [
      "{'akiec': 0, 'bcc': 1, 'bkl': 2, 'df': 3, 'mel': 4, 'nv': 5, 'vasc': 6}\n"
     ]
    }
   ],
   "source": [
    "test_labels = test_batches.classes\n",
    "# print(test_labels)\n",
    "print(test_batches.class_indices)"
   ]
  },
  {
   "cell_type": "code",
   "execution_count": 37,
   "id": "a46e4dcc",
   "metadata": {
    "execution": {
     "iopub.execute_input": "2022-03-10T09:39:13.463667Z",
     "iopub.status.busy": "2022-03-10T09:39:13.462867Z",
     "iopub.status.idle": "2022-03-10T09:39:24.111233Z",
     "shell.execute_reply": "2022-03-10T09:39:24.111684Z",
     "shell.execute_reply.started": "2022-03-10T06:33:02.320872Z"
    },
    "papermill": {
     "duration": 12.245624,
     "end_time": "2022-03-10T09:39:24.111840",
     "exception": false,
     "start_time": "2022-03-10T09:39:11.866216",
     "status": "completed"
    },
    "tags": []
   },
   "outputs": [
    {
     "name": "stdout",
     "output_type": "stream",
     "text": [
      "938/938 [==============================] - 11s 11ms/step\n"
     ]
    }
   ],
   "source": [
    "# make a prediction\n",
    "predictions = model.predict(test_batches, steps=len(df_val), verbose=1)"
   ]
  },
  {
   "cell_type": "code",
   "execution_count": 38,
   "id": "a41a55ad",
   "metadata": {
    "execution": {
     "iopub.execute_input": "2022-03-10T09:39:27.691259Z",
     "iopub.status.busy": "2022-03-10T09:39:27.690509Z",
     "iopub.status.idle": "2022-03-10T09:39:27.693261Z",
     "shell.execute_reply": "2022-03-10T09:39:27.693701Z",
     "shell.execute_reply.started": "2022-03-10T06:33:13.855116Z"
    },
    "papermill": {
     "duration": 1.655801,
     "end_time": "2022-03-10T09:39:27.693835",
     "exception": false,
     "start_time": "2022-03-10T09:39:26.038034",
     "status": "completed"
    },
    "tags": []
   },
   "outputs": [
    {
     "name": "stdout",
     "output_type": "stream",
     "text": [
      "(938, 7) \n",
      " (938,)\n"
     ]
    }
   ],
   "source": [
    "print(predictions.shape,\"\\n\",test_labels.shape)"
   ]
  },
  {
   "cell_type": "code",
   "execution_count": 39,
   "id": "189d33e5",
   "metadata": {
    "execution": {
     "iopub.execute_input": "2022-03-10T09:39:31.442458Z",
     "iopub.status.busy": "2022-03-10T09:39:31.440877Z",
     "iopub.status.idle": "2022-03-10T09:39:31.443057Z",
     "shell.execute_reply": "2022-03-10T09:39:31.443455Z",
     "shell.execute_reply.started": "2022-03-10T06:33:13.862159Z"
    },
    "papermill": {
     "duration": 1.647079,
     "end_time": "2022-03-10T09:39:31.443611",
     "exception": false,
     "start_time": "2022-03-10T09:39:29.796532",
     "status": "completed"
    },
    "tags": []
   },
   "outputs": [],
   "source": [
    "def plot_confusion_matrix(cm, classes,title,\n",
    "                          normalize=False,cmap=plt.cm.Reds):\n",
    "    \"\"\"\n",
    "    This function prints and plots the confusion matrix.\n",
    "    Normalization can be applied by setting `normalize=True`.\n",
    "    \"\"\"\n",
    "    if normalize:\n",
    "        cm = cm.astype('float') / cm.sum(axis=1)[:, np.newaxis]\n",
    "        print(\"Normalized confusion matrix\")\n",
    "    else:\n",
    "        print('Confusion matrix, without normalization')\n",
    "\n",
    "    print(cm)\n",
    "    plt.imshow(cm, interpolation='nearest', cmap=cmap)\n",
    "    plt.title(title)\n",
    "    plt.colorbar()\n",
    "    tick_marks = np.arange(len(classes))\n",
    "    plt.xticks(tick_marks, classes, rotation=45)\n",
    "    plt.yticks(tick_marks, classes)\n",
    "\n",
    "    fmt = '.2f' if normalize else 'd'\n",
    "    thresh = cm.max() / 2.\n",
    "    for i, j in itertools.product(range(cm.shape[0]), range(cm.shape[1])):\n",
    "        plt.text(j, i, format(cm[i, j], fmt),\n",
    "                 horizontalalignment=\"center\",\n",
    "                 color=\"white\" if cm[i, j] > thresh else \"black\")\n",
    "\n",
    "    plt.ylabel('True label')\n",
    "    plt.xlabel('Predicted label')\n",
    "    plt.tight_layout()\n"
   ]
  },
  {
   "cell_type": "code",
   "execution_count": 40,
   "id": "b6e74921",
   "metadata": {
    "execution": {
     "iopub.execute_input": "2022-03-10T09:39:34.721826Z",
     "iopub.status.busy": "2022-03-10T09:39:34.721216Z",
     "iopub.status.idle": "2022-03-10T09:39:35.171766Z",
     "shell.execute_reply": "2022-03-10T09:39:35.171102Z",
     "shell.execute_reply.started": "2022-03-10T06:39:00.345138Z"
    },
    "papermill": {
     "duration": 2.094277,
     "end_time": "2022-03-10T09:39:35.171889",
     "exception": false,
     "start_time": "2022-03-10T09:39:33.077612",
     "status": "completed"
    },
    "tags": []
   },
   "outputs": [
    {
     "name": "stdout",
     "output_type": "stream",
     "text": [
      "Confusion matrix, without normalization\n",
      "[[ 10   3   7   0   2   4   0]\n",
      " [  4  21   2   0   1   2   0]\n",
      " [  1   1  48   0   9  16   0]\n",
      " [  0   0   1   1   0   4   0]\n",
      " [  0   2  11   0  16   9   1]\n",
      " [  0   4   4   0   4 739   0]\n",
      " [  0   0   0   0   0   3   8]]\n"
     ]
    },
    {
     "data": {
      "image/png": "[encoded data removed]",
      "text/plain": [
       "<Figure size 432x288 with 2 Axes>"
      ]
     },
     "metadata": {
      "needs_background": "light"
     },
     "output_type": "display_data"
    }
   ],
   "source": [
    "cm = confusion_matrix(test_labels, predictions.argmax(axis=1))\n",
    "cm_plot_labels = ['akiec', 'bcc', 'bkl', 'df', 'mel','nv', 'vasc']\n",
    "\n",
    "plot_confusion_matrix(cm, cm_plot_labels, title='Confusion Matrix')"
   ]
  },
  {
   "cell_type": "code",
   "execution_count": 41,
   "id": "5ef9ab35",
   "metadata": {
    "execution": {
     "iopub.execute_input": "2022-03-10T09:39:38.831084Z",
     "iopub.status.busy": "2022-03-10T09:39:38.830219Z",
     "iopub.status.idle": "2022-03-10T09:39:39.428978Z",
     "shell.execute_reply": "2022-03-10T09:39:39.429506Z",
     "shell.execute_reply.started": "2022-03-10T07:10:46.445495Z"
    },
    "papermill": {
     "duration": 2.322103,
     "end_time": "2022-03-10T09:39:39.429659",
     "exception": false,
     "start_time": "2022-03-10T09:39:37.107556",
     "status": "completed"
    },
    "tags": []
   },
   "outputs": [
    {
     "name": "stdout",
     "output_type": "stream",
     "text": [
      "Test image shape:  (1, 224, 224, 3)\n",
      "predictions:  [[0.10172193 0.08310153 0.3129343  0.00952404 0.38124532 0.10819772\n",
      "  0.00327513]]\n",
      " lesions type: 4\n"
     ]
    },
    {
     "data": {
      "text/plain": [
       "<matplotlib.image.AxesImage at 0x7f8cd45dc190>"
      ]
     },
     "execution_count": 41,
     "metadata": {},
     "output_type": "execute_result"
    },
    {
     "data": {
      "image/png": "[encoded data removed]",
      "text/plain": [
       "<Figure size 432x288 with 1 Axes>"
      ]
     },
     "metadata": {
      "needs_background": "light"
     },
     "output_type": "display_data"
    }
   ],
   "source": [
    "# test_batches\n",
    "test_img = test_batches[2][0]\n",
    "print(\"Test image shape: \",test_img.shape)\n",
    "predictions= model.predict(test_img)\n",
    "print(\"predictions: \",predictions)\n",
    "def max_ypred(y_pred):\n",
    "    max_ypred2 = np.max(predictions)\n",
    "    for i,n in enumerate(predictions[0]):\n",
    "        if n == max_ypred2:\n",
    "            return i\n",
    "\n",
    "print(' lesions type: {}'.format(max_ypred(predictions)))\n",
    "plt.imshow(test_img.reshape(224,224,3))"
   ]
  },
  {
   "cell_type": "code",
   "execution_count": null,
   "id": "3436d6fd",
   "metadata": {
    "papermill": {
     "duration": 1.670772,
     "end_time": "2022-03-10T09:39:42.752295",
     "exception": false,
     "start_time": "2022-03-10T09:39:41.081523",
     "status": "completed"
    },
    "tags": []
   },
   "outputs": [],
   "source": []
  }
 ],
 "metadata": {
  "kernelspec": {
   "display_name": "Python 3",
   "language": "python",
   "name": "python3"
  },
  "language_info": {
   "codemirror_mode": {
    "name": "ipython",
    "version": 3
   },
   "file_extension": ".py",
   "mimetype": "text/x-python",
   "name": "python",
   "nbconvert_exporter": "python",
   "pygments_lexer": "ipython3",
   "version": "3.7.12"
  },
  "papermill": {
   "default_parameters": {},
   "duration": 758.36603,
   "end_time": "2022-03-10T09:39:47.900704",
   "environment_variables": {},
   "exception": null,
   "input_path": "__notebook__.ipynb",
   "output_path": "__notebook__.ipynb",
   "parameters": {},
   "start_time": "2022-03-10T09:27:09.534674",
   "version": "2.3.3"
  }
 },
 "nbformat": 4,
 "nbformat_minor": 5
}
