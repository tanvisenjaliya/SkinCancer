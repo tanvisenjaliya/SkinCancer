{
 "cells": [
  {
   "cell_type": "code",
   "execution_count": 1,
   "id": "7d195a05",
   "metadata": {
    "_cell_guid": "b1076dfc-b9ad-4769-8c92-a6c4dae69d19",
    "_uuid": "8f2839f25d086af736a60e9eeb907d3b93b6e0e5",
    "execution": {
     "iopub.execute_input": "2022-03-08T04:26:15.574999Z",
     "iopub.status.busy": "2022-03-08T04:26:15.573491Z",
     "iopub.status.idle": "2022-03-08T04:26:20.407728Z",
     "shell.execute_reply": "2022-03-08T04:26:20.406923Z",
     "shell.execute_reply.started": "2022-03-08T04:09:00.932436Z"
    },
    "papermill": {
     "duration": 4.876827,
     "end_time": "2022-03-08T04:26:20.407917",
     "exception": false,
     "start_time": "2022-03-08T04:26:15.531090",
     "status": "completed"
    },
    "tags": []
   },
   "outputs": [],
   "source": [
    "import numpy as np \n",
    "import pandas as pd \n",
    "import os, shutil\n",
    "import tensorflow as tf\n",
    "import matplotlib.pyplot as plt\n",
    "%matplotlib inline\n",
    "\n",
    "from sklearn.model_selection import train_test_split"
   ]
  },
  {
   "cell_type": "code",
   "execution_count": 2,
   "id": "5d46da6b",
   "metadata": {
    "execution": {
     "iopub.execute_input": "2022-03-08T04:26:20.459574Z",
     "iopub.status.busy": "2022-03-08T04:26:20.458972Z",
     "iopub.status.idle": "2022-03-08T04:26:20.467847Z",
     "shell.execute_reply": "2022-03-08T04:26:20.468238Z",
     "shell.execute_reply.started": "2022-03-08T04:09:05.774753Z"
    },
    "papermill": {
     "duration": 0.035574,
     "end_time": "2022-03-08T04:26:20.468360",
     "exception": false,
     "start_time": "2022-03-08T04:26:20.432786",
     "status": "completed"
    },
    "tags": []
   },
   "outputs": [
    {
     "data": {
      "text/plain": [
       "['hmnist_8_8_RGB.csv',\n",
       " 'hmnist_28_28_RGB.csv',\n",
       " 'HAM10000_images_part_1',\n",
       " 'ham10000_images_part_1',\n",
       " 'hmnist_8_8_L.csv',\n",
       " 'HAM10000_images_part_2',\n",
       " 'ham10000_images_part_2',\n",
       " 'hmnist_28_28_L.csv',\n",
       " 'HAM10000_metadata.csv']"
      ]
     },
     "execution_count": 2,
     "metadata": {},
     "output_type": "execute_result"
    }
   ],
   "source": [
    "base_dir = os.listdir('../input/skin-cancer-mnist-ham10000') # from Kaggle\n",
    "base_dir"
   ]
  },
  {
   "cell_type": "markdown",
   "id": "32032561",
   "metadata": {
    "papermill": {
     "duration": 0.022862,
     "end_time": "2022-03-08T04:26:20.514591",
     "exception": false,
     "start_time": "2022-03-08T04:26:20.491729",
     "status": "completed"
    },
    "tags": []
   },
   "source": [
    "### <font color=darkgreen> Reading file: RGB image scale 28 by 28"
   ]
  },
  {
   "cell_type": "code",
   "execution_count": 3,
   "id": "5f9558ea",
   "metadata": {
    "execution": {
     "iopub.execute_input": "2022-03-08T04:26:20.565761Z",
     "iopub.status.busy": "2022-03-08T04:26:20.565113Z",
     "iopub.status.idle": "2022-03-08T04:26:24.582242Z",
     "shell.execute_reply": "2022-03-08T04:26:24.581681Z",
     "shell.execute_reply.started": "2022-03-08T04:09:05.790245Z"
    },
    "papermill": {
     "duration": 4.044032,
     "end_time": "2022-03-08T04:26:24.582391",
     "exception": false,
     "start_time": "2022-03-08T04:26:20.538359",
     "status": "completed"
    },
    "tags": []
   },
   "outputs": [],
   "source": [
    "rgb = pd.read_csv('../input/skin-cancer-mnist-ham10000/hmnist_28_28_RGB.csv')"
   ]
  },
  {
   "cell_type": "code",
   "execution_count": 4,
   "id": "af06b612",
   "metadata": {
    "execution": {
     "iopub.execute_input": "2022-03-08T04:26:24.639133Z",
     "iopub.status.busy": "2022-03-08T04:26:24.638289Z",
     "iopub.status.idle": "2022-03-08T04:26:24.654329Z",
     "shell.execute_reply": "2022-03-08T04:26:24.654776Z",
     "shell.execute_reply.started": "2022-03-08T04:09:10.197808Z"
    },
    "papermill": {
     "duration": 0.048502,
     "end_time": "2022-03-08T04:26:24.654916",
     "exception": false,
     "start_time": "2022-03-08T04:26:24.606414",
     "status": "completed"
    },
    "tags": []
   },
   "outputs": [
    {
     "data": {
      "text/html": [
       "<div>\n",
       "<style scoped>\n",
       "    .dataframe tbody tr th:only-of-type {\n",
       "        vertical-align: middle;\n",
       "    }\n",
       "\n",
       "    .dataframe tbody tr th {\n",
       "        vertical-align: top;\n",
       "    }\n",
       "\n",
       "    .dataframe thead th {\n",
       "        text-align: right;\n",
       "    }\n",
       "</style>\n",
       "<table border=\"1\" class=\"dataframe\">\n",
       "  <thead>\n",
       "    <tr style=\"text-align: right;\">\n",
       "      <th></th>\n",
       "      <th>pixel0000</th>\n",
       "      <th>pixel0001</th>\n",
       "      <th>pixel0002</th>\n",
       "      <th>pixel0003</th>\n",
       "      <th>pixel0004</th>\n",
       "      <th>pixel0005</th>\n",
       "      <th>pixel0006</th>\n",
       "      <th>pixel0007</th>\n",
       "      <th>pixel0008</th>\n",
       "      <th>pixel0009</th>\n",
       "      <th>...</th>\n",
       "      <th>pixel2343</th>\n",
       "      <th>pixel2344</th>\n",
       "      <th>pixel2345</th>\n",
       "      <th>pixel2346</th>\n",
       "      <th>pixel2347</th>\n",
       "      <th>pixel2348</th>\n",
       "      <th>pixel2349</th>\n",
       "      <th>pixel2350</th>\n",
       "      <th>pixel2351</th>\n",
       "      <th>label</th>\n",
       "    </tr>\n",
       "  </thead>\n",
       "  <tbody>\n",
       "    <tr>\n",
       "      <th>0</th>\n",
       "      <td>192</td>\n",
       "      <td>153</td>\n",
       "      <td>193</td>\n",
       "      <td>195</td>\n",
       "      <td>155</td>\n",
       "      <td>192</td>\n",
       "      <td>197</td>\n",
       "      <td>154</td>\n",
       "      <td>185</td>\n",
       "      <td>202</td>\n",
       "      <td>...</td>\n",
       "      <td>173</td>\n",
       "      <td>124</td>\n",
       "      <td>138</td>\n",
       "      <td>183</td>\n",
       "      <td>147</td>\n",
       "      <td>166</td>\n",
       "      <td>185</td>\n",
       "      <td>154</td>\n",
       "      <td>177</td>\n",
       "      <td>2</td>\n",
       "    </tr>\n",
       "    <tr>\n",
       "      <th>1</th>\n",
       "      <td>25</td>\n",
       "      <td>14</td>\n",
       "      <td>30</td>\n",
       "      <td>68</td>\n",
       "      <td>48</td>\n",
       "      <td>75</td>\n",
       "      <td>123</td>\n",
       "      <td>93</td>\n",
       "      <td>126</td>\n",
       "      <td>158</td>\n",
       "      <td>...</td>\n",
       "      <td>60</td>\n",
       "      <td>39</td>\n",
       "      <td>55</td>\n",
       "      <td>25</td>\n",
       "      <td>14</td>\n",
       "      <td>28</td>\n",
       "      <td>25</td>\n",
       "      <td>14</td>\n",
       "      <td>27</td>\n",
       "      <td>2</td>\n",
       "    </tr>\n",
       "    <tr>\n",
       "      <th>2</th>\n",
       "      <td>192</td>\n",
       "      <td>138</td>\n",
       "      <td>153</td>\n",
       "      <td>200</td>\n",
       "      <td>145</td>\n",
       "      <td>163</td>\n",
       "      <td>201</td>\n",
       "      <td>142</td>\n",
       "      <td>160</td>\n",
       "      <td>206</td>\n",
       "      <td>...</td>\n",
       "      <td>167</td>\n",
       "      <td>129</td>\n",
       "      <td>143</td>\n",
       "      <td>159</td>\n",
       "      <td>124</td>\n",
       "      <td>142</td>\n",
       "      <td>136</td>\n",
       "      <td>104</td>\n",
       "      <td>117</td>\n",
       "      <td>2</td>\n",
       "    </tr>\n",
       "    <tr>\n",
       "      <th>3</th>\n",
       "      <td>38</td>\n",
       "      <td>19</td>\n",
       "      <td>30</td>\n",
       "      <td>95</td>\n",
       "      <td>59</td>\n",
       "      <td>72</td>\n",
       "      <td>143</td>\n",
       "      <td>103</td>\n",
       "      <td>119</td>\n",
       "      <td>171</td>\n",
       "      <td>...</td>\n",
       "      <td>44</td>\n",
       "      <td>26</td>\n",
       "      <td>36</td>\n",
       "      <td>25</td>\n",
       "      <td>12</td>\n",
       "      <td>17</td>\n",
       "      <td>25</td>\n",
       "      <td>12</td>\n",
       "      <td>15</td>\n",
       "      <td>2</td>\n",
       "    </tr>\n",
       "    <tr>\n",
       "      <th>4</th>\n",
       "      <td>158</td>\n",
       "      <td>113</td>\n",
       "      <td>139</td>\n",
       "      <td>194</td>\n",
       "      <td>144</td>\n",
       "      <td>174</td>\n",
       "      <td>215</td>\n",
       "      <td>162</td>\n",
       "      <td>191</td>\n",
       "      <td>225</td>\n",
       "      <td>...</td>\n",
       "      <td>209</td>\n",
       "      <td>166</td>\n",
       "      <td>185</td>\n",
       "      <td>172</td>\n",
       "      <td>135</td>\n",
       "      <td>149</td>\n",
       "      <td>109</td>\n",
       "      <td>78</td>\n",
       "      <td>92</td>\n",
       "      <td>2</td>\n",
       "    </tr>\n",
       "  </tbody>\n",
       "</table>\n",
       "<p>5 rows × 2353 columns</p>\n",
       "</div>"
      ],
      "text/plain": [
       "   pixel0000  pixel0001  pixel0002  pixel0003  pixel0004  pixel0005  \\\n",
       "0        192        153        193        195        155        192   \n",
       "1         25         14         30         68         48         75   \n",
       "2        192        138        153        200        145        163   \n",
       "3         38         19         30         95         59         72   \n",
       "4        158        113        139        194        144        174   \n",
       "\n",
       "   pixel0006  pixel0007  pixel0008  pixel0009  ...  pixel2343  pixel2344  \\\n",
       "0        197        154        185        202  ...        173        124   \n",
       "1        123         93        126        158  ...         60         39   \n",
       "2        201        142        160        206  ...        167        129   \n",
       "3        143        103        119        171  ...         44         26   \n",
       "4        215        162        191        225  ...        209        166   \n",
       "\n",
       "   pixel2345  pixel2346  pixel2347  pixel2348  pixel2349  pixel2350  \\\n",
       "0        138        183        147        166        185        154   \n",
       "1         55         25         14         28         25         14   \n",
       "2        143        159        124        142        136        104   \n",
       "3         36         25         12         17         25         12   \n",
       "4        185        172        135        149        109         78   \n",
       "\n",
       "   pixel2351  label  \n",
       "0        177      2  \n",
       "1         27      2  \n",
       "2        117      2  \n",
       "3         15      2  \n",
       "4         92      2  \n",
       "\n",
       "[5 rows x 2353 columns]"
      ]
     },
     "execution_count": 4,
     "metadata": {},
     "output_type": "execute_result"
    }
   ],
   "source": [
    "rgb.head()"
   ]
  },
  {
   "cell_type": "code",
   "execution_count": 5,
   "id": "3b021230",
   "metadata": {
    "execution": {
     "iopub.execute_input": "2022-03-08T04:26:24.727658Z",
     "iopub.status.busy": "2022-03-08T04:26:24.722443Z",
     "iopub.status.idle": "2022-03-08T04:26:24.815131Z",
     "shell.execute_reply": "2022-03-08T04:26:24.815698Z",
     "shell.execute_reply.started": "2022-03-08T04:09:10.223262Z"
    },
    "papermill": {
     "duration": 0.136889,
     "end_time": "2022-03-08T04:26:24.815871",
     "exception": false,
     "start_time": "2022-03-08T04:26:24.678982",
     "status": "completed"
    },
    "tags": []
   },
   "outputs": [
    {
     "name": "stdout",
     "output_type": "stream",
     "text": [
      "<class 'pandas.core.frame.DataFrame'>\n",
      "RangeIndex: 10015 entries, 0 to 10014\n",
      "Columns: 2353 entries, pixel0000 to label\n",
      "dtypes: int64(2353)\n",
      "memory usage: 179.8 MB\n"
     ]
    }
   ],
   "source": [
    "rgb.info()"
   ]
  },
  {
   "cell_type": "markdown",
   "id": "3103a5dd",
   "metadata": {
    "papermill": {
     "duration": 0.024033,
     "end_time": "2022-03-08T04:26:24.865281",
     "exception": false,
     "start_time": "2022-03-08T04:26:24.841248",
     "status": "completed"
    },
    "tags": []
   },
   "source": [
    "# <font color=darkgreen> Display image"
   ]
  },
  {
   "cell_type": "code",
   "execution_count": 6,
   "id": "033a1b32",
   "metadata": {
    "execution": {
     "iopub.execute_input": "2022-03-08T04:26:24.976108Z",
     "iopub.status.busy": "2022-03-08T04:26:24.974892Z",
     "iopub.status.idle": "2022-03-08T04:26:25.243986Z",
     "shell.execute_reply": "2022-03-08T04:26:25.244392Z",
     "shell.execute_reply.started": "2022-03-08T04:09:10.332838Z"
    },
    "papermill": {
     "duration": 0.355238,
     "end_time": "2022-03-08T04:26:25.244553",
     "exception": false,
     "start_time": "2022-03-08T04:26:24.889315",
     "status": "completed"
    },
    "tags": []
   },
   "outputs": [
    {
     "data": {
      "text/plain": [
       "<matplotlib.image.AxesImage at 0x7f26a129b410>"
      ]
     },
     "execution_count": 6,
     "metadata": {},
     "output_type": "execute_result"
    },
    {
     "data": {
      "image/png": "[encoded data removed]",
      "text/plain": [
       "<Figure size 432x288 with 1 Axes>"
      ]
     },
     "metadata": {
      "needs_background": "light"
     },
     "output_type": "display_data"
    }
   ],
   "source": [
    "y = rgb['label']\n",
    "X = rgb.drop(['label'], axis=1)\n",
    "\n",
    "X1 = np.array(X)\n",
    "image = X1[10].reshape(28,28,3)\n",
    "plt.imshow(image)"
   ]
  },
  {
   "cell_type": "markdown",
   "id": "062a1961",
   "metadata": {
    "papermill": {
     "duration": 0.025014,
     "end_time": "2022-03-08T04:26:25.296393",
     "exception": false,
     "start_time": "2022-03-08T04:26:25.271379",
     "status": "completed"
    },
    "tags": []
   },
   "source": [
    "# <font color=darkgreen> Building Simple Neural network"
   ]
  },
  {
   "cell_type": "code",
   "execution_count": 7,
   "id": "73b7c8c7",
   "metadata": {
    "execution": {
     "iopub.execute_input": "2022-03-08T04:26:25.353675Z",
     "iopub.status.busy": "2022-03-08T04:26:25.350257Z",
     "iopub.status.idle": "2022-03-08T04:26:25.523919Z",
     "shell.execute_reply": "2022-03-08T04:26:25.523330Z",
     "shell.execute_reply.started": "2022-03-08T04:09:10.654356Z"
    },
    "papermill": {
     "duration": 0.202521,
     "end_time": "2022-03-08T04:26:25.524044",
     "exception": false,
     "start_time": "2022-03-08T04:26:25.321523",
     "status": "completed"
    },
    "tags": []
   },
   "outputs": [],
   "source": [
    "\n",
    "X_train, X_val_test, y_train, y_val_test = train_test_split(X, y,\n",
    "                                                  test_size=0.4,shuffle = True,\n",
    "                                                  random_state=1)\n",
    "X_val, X_test, y_val, y_test = train_test_split(X_val_test, y_val_test,\n",
    "                                                  test_size=0.5,random_state=1)"
   ]
  },
  {
   "cell_type": "code",
   "execution_count": 8,
   "id": "75c5bc45",
   "metadata": {
    "execution": {
     "iopub.execute_input": "2022-03-08T04:26:25.588435Z",
     "iopub.status.busy": "2022-03-08T04:26:25.587511Z",
     "iopub.status.idle": "2022-03-08T04:26:25.668353Z",
     "shell.execute_reply": "2022-03-08T04:26:25.667866Z",
     "shell.execute_reply.started": "2022-03-08T04:09:10.830387Z"
    },
    "papermill": {
     "duration": 0.117453,
     "end_time": "2022-03-08T04:26:25.668516",
     "exception": false,
     "start_time": "2022-03-08T04:26:25.551063",
     "status": "completed"
    },
    "tags": []
   },
   "outputs": [],
   "source": [
    "X_train = X_train/255\n",
    "X_val = X_val/255\n",
    "X_test = X_test/255\n",
    "num_classes = 7"
   ]
  },
  {
   "cell_type": "code",
   "execution_count": 9,
   "id": "df20e60c",
   "metadata": {
    "execution": {
     "iopub.execute_input": "2022-03-08T04:26:25.724833Z",
     "iopub.status.busy": "2022-03-08T04:26:25.723759Z",
     "iopub.status.idle": "2022-03-08T04:26:25.943668Z",
     "shell.execute_reply": "2022-03-08T04:26:25.943202Z",
     "shell.execute_reply.started": "2022-03-08T04:09:10.920228Z"
    },
    "papermill": {
     "duration": 0.249605,
     "end_time": "2022-03-08T04:26:25.943797",
     "exception": false,
     "start_time": "2022-03-08T04:26:25.694192",
     "status": "completed"
    },
    "tags": []
   },
   "outputs": [
    {
     "data": {
      "text/plain": [
       "<matplotlib.image.AxesImage at 0x7f26a10fee90>"
      ]
     },
     "execution_count": 9,
     "metadata": {},
     "output_type": "execute_result"
    },
    {
     "data": {
      "image/png": "[encoded data removed]",
      "text/plain": [
       "<Figure size 432x288 with 1 Axes>"
      ]
     },
     "metadata": {
      "needs_background": "light"
     },
     "output_type": "display_data"
    }
   ],
   "source": [
    "X_train1 = np.array(X_train) #to flatten\n",
    "n_samples_train = len(y_train.index)\n",
    "images_train = X_train1.reshape(n_samples_train,28,28,3)\n",
    "plt.imshow(images_train[10])"
   ]
  },
  {
   "cell_type": "code",
   "execution_count": 10,
   "id": "74c9ad91",
   "metadata": {
    "execution": {
     "iopub.execute_input": "2022-03-08T04:26:26.001923Z",
     "iopub.status.busy": "2022-03-08T04:26:26.000746Z",
     "iopub.status.idle": "2022-03-08T04:26:26.198945Z",
     "shell.execute_reply": "2022-03-08T04:26:26.198375Z",
     "shell.execute_reply.started": "2022-03-08T04:09:11.135802Z"
    },
    "papermill": {
     "duration": 0.228949,
     "end_time": "2022-03-08T04:26:26.199072",
     "exception": false,
     "start_time": "2022-03-08T04:26:25.970123",
     "status": "completed"
    },
    "tags": []
   },
   "outputs": [
    {
     "data": {
      "text/plain": [
       "<matplotlib.image.AxesImage at 0x7f26a1044150>"
      ]
     },
     "execution_count": 10,
     "metadata": {},
     "output_type": "execute_result"
    },
    {
     "data": {
      "image/png": "[encoded data removed]",
      "text/plain": [
       "<Figure size 432x288 with 1 Axes>"
      ]
     },
     "metadata": {
      "needs_background": "light"
     },
     "output_type": "display_data"
    }
   ],
   "source": [
    "X_val1 = np.array(X_val) #to flatten\n",
    "n_samples_val = len(y_val.index)\n",
    "images_val = X_val1.reshape(n_samples_val,28,28,3)\n",
    "plt.imshow(images_val[10])"
   ]
  },
  {
   "cell_type": "code",
   "execution_count": 11,
   "id": "b287c32e",
   "metadata": {
    "execution": {
     "iopub.execute_input": "2022-03-08T04:26:26.258833Z",
     "iopub.status.busy": "2022-03-08T04:26:26.256220Z",
     "iopub.status.idle": "2022-03-08T04:26:26.450614Z",
     "shell.execute_reply": "2022-03-08T04:26:26.449813Z",
     "shell.execute_reply.started": "2022-03-08T04:09:11.323579Z"
    },
    "papermill": {
     "duration": 0.224381,
     "end_time": "2022-03-08T04:26:26.450734",
     "exception": false,
     "start_time": "2022-03-08T04:26:26.226353",
     "status": "completed"
    },
    "tags": []
   },
   "outputs": [
    {
     "data": {
      "text/plain": [
       "<matplotlib.image.AxesImage at 0x7f26a0fc6b90>"
      ]
     },
     "execution_count": 11,
     "metadata": {},
     "output_type": "execute_result"
    },
    {
     "data": {
      "image/png": "[encoded data removed]",
      "text/plain": [
       "<Figure size 432x288 with 1 Axes>"
      ]
     },
     "metadata": {
      "needs_background": "light"
     },
     "output_type": "display_data"
    }
   ],
   "source": [
    "X_test1 = np.array(X_test) \n",
    "n_samples_test = len(y_test.index)\n",
    "images_test = X_test1.reshape(n_samples_test,28,28,3)\n",
    "plt.imshow(images_test[10])"
   ]
  },
  {
   "cell_type": "code",
   "execution_count": 12,
   "id": "5ac34c3d",
   "metadata": {
    "execution": {
     "iopub.execute_input": "2022-03-08T04:26:26.516598Z",
     "iopub.status.busy": "2022-03-08T04:26:26.515990Z",
     "iopub.status.idle": "2022-03-08T04:26:29.837092Z",
     "shell.execute_reply": "2022-03-08T04:26:29.837941Z",
     "shell.execute_reply.started": "2022-03-08T04:09:11.514750Z"
    },
    "papermill": {
     "duration": 3.358844,
     "end_time": "2022-03-08T04:26:29.838111",
     "exception": false,
     "start_time": "2022-03-08T04:26:26.479267",
     "status": "completed"
    },
    "tags": []
   },
   "outputs": [
    {
     "name": "stderr",
     "output_type": "stream",
     "text": [
      "2022-03-08 04:26:27.474880: I tensorflow/stream_executor/cuda/cuda_gpu_executor.cc:937] successful NUMA node read from SysFS had negative value (-1), but there must be at least one NUMA node, so returning NUMA node zero\n",
      "2022-03-08 04:26:27.571108: I tensorflow/stream_executor/cuda/cuda_gpu_executor.cc:937] successful NUMA node read from SysFS had negative value (-1), but there must be at least one NUMA node, so returning NUMA node zero\n",
      "2022-03-08 04:26:27.571886: I tensorflow/stream_executor/cuda/cuda_gpu_executor.cc:937] successful NUMA node read from SysFS had negative value (-1), but there must be at least one NUMA node, so returning NUMA node zero\n",
      "2022-03-08 04:26:27.573192: I tensorflow/core/platform/cpu_feature_guard.cc:142] This TensorFlow binary is optimized with oneAPI Deep Neural Network Library (oneDNN) to use the following CPU instructions in performance-critical operations:  AVX2 AVX512F FMA\n",
      "To enable them in other operations, rebuild TensorFlow with the appropriate compiler flags.\n",
      "2022-03-08 04:26:27.574362: I tensorflow/stream_executor/cuda/cuda_gpu_executor.cc:937] successful NUMA node read from SysFS had negative value (-1), but there must be at least one NUMA node, so returning NUMA node zero\n",
      "2022-03-08 04:26:27.575043: I tensorflow/stream_executor/cuda/cuda_gpu_executor.cc:937] successful NUMA node read from SysFS had negative value (-1), but there must be at least one NUMA node, so returning NUMA node zero\n",
      "2022-03-08 04:26:27.575681: I tensorflow/stream_executor/cuda/cuda_gpu_executor.cc:937] successful NUMA node read from SysFS had negative value (-1), but there must be at least one NUMA node, so returning NUMA node zero\n",
      "2022-03-08 04:26:29.410216: I tensorflow/stream_executor/cuda/cuda_gpu_executor.cc:937] successful NUMA node read from SysFS had negative value (-1), but there must be at least one NUMA node, so returning NUMA node zero\n",
      "2022-03-08 04:26:29.411412: I tensorflow/stream_executor/cuda/cuda_gpu_executor.cc:937] successful NUMA node read from SysFS had negative value (-1), but there must be at least one NUMA node, so returning NUMA node zero\n",
      "2022-03-08 04:26:29.412485: I tensorflow/stream_executor/cuda/cuda_gpu_executor.cc:937] successful NUMA node read from SysFS had negative value (-1), but there must be at least one NUMA node, so returning NUMA node zero\n",
      "2022-03-08 04:26:29.413320: I tensorflow/core/common_runtime/gpu/gpu_device.cc:1510] Created device /job:localhost/replica:0/task:0/device:GPU:0 with 15403 MB memory:  -> device: 0, name: Tesla P100-PCIE-16GB, pci bus id: 0000:00:04.0, compute capability: 6.0\n"
     ]
    },
    {
     "name": "stdout",
     "output_type": "stream",
     "text": [
      "Model: \"sequential\"\n",
      "_________________________________________________________________\n",
      "Layer (type)                 Output Shape              Param #   \n",
      "=================================================================\n",
      "Convo2D_Layer_1 (Conv2D)     (None, 28, 28, 32)        896       \n",
      "_________________________________________________________________\n",
      "MaxPooling2D_Layer_1 (MaxPoo (None, 14, 14, 32)        0         \n",
      "_________________________________________________________________\n",
      "Convo2D_Layer_2 (Conv2D)     (None, 14, 14, 32)        9248      \n",
      "_________________________________________________________________\n",
      "MaxPooling2D_Layer_2 (MaxPoo (None, 7, 7, 32)          0         \n",
      "_________________________________________________________________\n",
      "Convo2D_Layer_3 (Conv2D)     (None, 7, 7, 15)          4335      \n",
      "_________________________________________________________________\n",
      "MaxPooling2D_Layer_3 (MaxPoo (None, 3, 3, 15)          0         \n",
      "_________________________________________________________________\n",
      "DroupOut_Layer_1 (Dropout)   (None, 3, 3, 15)          0         \n",
      "_________________________________________________________________\n",
      "Convo2D_Layer_4 (Conv2D)     (None, 3, 3, 5)           680       \n",
      "_________________________________________________________________\n",
      "MaxPooling2D_Layer_4 (MaxPoo (None, 1, 1, 5)           0         \n",
      "_________________________________________________________________\n",
      "DroupOut_Layer_2 (Dropout)   (None, 1, 1, 5)           0         \n",
      "_________________________________________________________________\n",
      "Flatten_Layer_1 (Flatten)    (None, 5)                 0         \n",
      "_________________________________________________________________\n",
      "Dense_Layer (Dense)          (None, 7)                 42        \n",
      "=================================================================\n",
      "Total params: 15,201\n",
      "Trainable params: 15,201\n",
      "Non-trainable params: 0\n",
      "_________________________________________________________________\n"
     ]
    }
   ],
   "source": [
    "model = tf.keras.models.Sequential([\n",
    "    \n",
    "    tf.keras.layers.Conv2D(32, (3, 3),padding='same', name ='Convo2D_Layer_1', input_shape=(28, 28, 3), activation='relu'),\n",
    "    tf.keras.layers.MaxPooling2D((2, 2),name ='MaxPooling2D_Layer_1' ),\n",
    "    tf.keras.layers.Conv2D(32, (3, 3),padding='same', name ='Convo2D_Layer_2', activation='relu'),\n",
    "    tf.keras.layers.MaxPooling2D((2, 2),name ='MaxPooling2D_Layer_2'),\n",
    "    tf.keras.layers.Conv2D(15, (3, 3),padding='same',name ='Convo2D_Layer_3',  activation='relu'),\n",
    "    tf.keras.layers.MaxPooling2D((2, 2),name ='MaxPooling2D_Layer_3'),\n",
    "    tf.keras.layers.Dropout(0.15,name ='DroupOut_Layer_1'),\n",
    "    tf.keras.layers.Conv2D(5, (3, 3),padding='same',name ='Convo2D_Layer_4',  activation='relu'),\n",
    "    tf.keras.layers.MaxPooling2D((2, 2),name ='MaxPooling2D_Layer_4'),\n",
    "    tf.keras.layers.Dropout(0.2,name ='DroupOut_Layer_2'),\n",
    "    tf.keras.layers.Flatten(name ='Flatten_Layer_1'),\n",
    "    \n",
    "    tf.keras.layers.Dense(7,name ='Dense_Layer',activation='softmax')\n",
    "])\n",
    "model.summary()"
   ]
  },
  {
   "cell_type": "code",
   "execution_count": 13,
   "id": "9a922aba",
   "metadata": {
    "execution": {
     "iopub.execute_input": "2022-03-08T04:26:29.904737Z",
     "iopub.status.busy": "2022-03-08T04:26:29.904187Z",
     "iopub.status.idle": "2022-03-08T04:26:30.074325Z",
     "shell.execute_reply": "2022-03-08T04:26:30.073816Z",
     "shell.execute_reply.started": "2022-03-08T04:09:14.395952Z"
    },
    "papermill": {
     "duration": 0.207004,
     "end_time": "2022-03-08T04:26:30.074501",
     "exception": false,
     "start_time": "2022-03-08T04:26:29.867497",
     "status": "completed"
    },
    "tags": []
   },
   "outputs": [],
   "source": [
    "# Compiling the model\n",
    "\n",
    "model.compile(loss='sparse_categorical_crossentropy', \n",
    "              optimizer=tf.keras.optimizers.Adam(learning_rate = 1e-3), \n",
    "              metrics=['accuracy'])"
   ]
  },
  {
   "cell_type": "code",
   "execution_count": 14,
   "id": "a4ad8c82",
   "metadata": {
    "execution": {
     "iopub.execute_input": "2022-03-08T04:26:30.143093Z",
     "iopub.status.busy": "2022-03-08T04:26:30.142148Z",
     "iopub.status.idle": "2022-03-08T04:27:52.799165Z",
     "shell.execute_reply": "2022-03-08T04:27:52.798645Z",
     "shell.execute_reply.started": "2022-03-08T04:09:14.572386Z"
    },
    "papermill": {
     "duration": 82.692918,
     "end_time": "2022-03-08T04:27:52.799309",
     "exception": false,
     "start_time": "2022-03-08T04:26:30.106391",
     "status": "completed"
    },
    "tags": []
   },
   "outputs": [
    {
     "name": "stderr",
     "output_type": "stream",
     "text": [
      "2022-03-08 04:26:30.376569: I tensorflow/compiler/mlir/mlir_graph_optimization_pass.cc:185] None of the MLIR Optimization Passes are enabled (registered 2)\n"
     ]
    },
    {
     "name": "stdout",
     "output_type": "stream",
     "text": [
      "Epoch 1/70\n"
     ]
    },
    {
     "name": "stderr",
     "output_type": "stream",
     "text": [
      "2022-03-08 04:26:31.654484: I tensorflow/stream_executor/cuda/cuda_dnn.cc:369] Loaded cuDNN version 8005\n"
     ]
    },
    {
     "name": "stdout",
     "output_type": "stream",
     "text": [
      "188/188 [==============================] - 8s 6ms/step - loss: 1.2657 - accuracy: 0.6509 - val_loss: 1.0498 - val_accuracy: 0.6640\n",
      "Epoch 2/70\n",
      "188/188 [==============================] - 1s 4ms/step - loss: 1.0716 - accuracy: 0.6690 - val_loss: 1.0295 - val_accuracy: 0.6640\n",
      "Epoch 3/70\n",
      "188/188 [==============================] - 1s 4ms/step - loss: 1.0175 - accuracy: 0.6697 - val_loss: 0.9901 - val_accuracy: 0.6640\n",
      "Epoch 4/70\n",
      "188/188 [==============================] - 1s 6ms/step - loss: 0.9887 - accuracy: 0.6697 - val_loss: 0.9708 - val_accuracy: 0.6640\n",
      "Epoch 5/70\n",
      "188/188 [==============================] - 1s 4ms/step - loss: 0.9767 - accuracy: 0.6697 - val_loss: 0.9541 - val_accuracy: 0.6640\n",
      "Epoch 6/70\n",
      "188/188 [==============================] - 1s 4ms/step - loss: 0.9648 - accuracy: 0.6675 - val_loss: 0.9707 - val_accuracy: 0.6640\n",
      "Epoch 7/70\n",
      "188/188 [==============================] - 1s 4ms/step - loss: 0.9502 - accuracy: 0.6652 - val_loss: 0.9403 - val_accuracy: 0.6680\n",
      "Epoch 8/70\n",
      "188/188 [==============================] - 1s 4ms/step - loss: 0.9450 - accuracy: 0.6677 - val_loss: 0.9476 - val_accuracy: 0.6650\n",
      "Epoch 9/70\n",
      "188/188 [==============================] - 1s 4ms/step - loss: 0.9365 - accuracy: 0.6687 - val_loss: 0.9341 - val_accuracy: 0.6695\n",
      "Epoch 10/70\n",
      "188/188 [==============================] - 1s 4ms/step - loss: 0.9141 - accuracy: 0.6712 - val_loss: 0.9097 - val_accuracy: 0.6710\n",
      "Epoch 11/70\n",
      "188/188 [==============================] - 1s 4ms/step - loss: 0.8934 - accuracy: 0.6783 - val_loss: 0.8832 - val_accuracy: 0.6895\n",
      "Epoch 12/70\n",
      "188/188 [==============================] - 1s 5ms/step - loss: 0.8764 - accuracy: 0.6833 - val_loss: 0.9311 - val_accuracy: 0.6770\n",
      "Epoch 13/70\n",
      "188/188 [==============================] - 1s 5ms/step - loss: 0.8636 - accuracy: 0.6865 - val_loss: 0.8642 - val_accuracy: 0.6895\n",
      "Epoch 14/70\n",
      "188/188 [==============================] - 1s 4ms/step - loss: 0.8589 - accuracy: 0.6880 - val_loss: 0.8506 - val_accuracy: 0.6910\n",
      "Epoch 15/70\n",
      "188/188 [==============================] - 1s 4ms/step - loss: 0.8496 - accuracy: 0.6873 - val_loss: 0.8482 - val_accuracy: 0.6975\n",
      "Epoch 16/70\n",
      "188/188 [==============================] - 1s 4ms/step - loss: 0.8381 - accuracy: 0.6935 - val_loss: 0.8585 - val_accuracy: 0.6930\n",
      "Epoch 17/70\n",
      "188/188 [==============================] - 1s 6ms/step - loss: 0.8385 - accuracy: 0.6933 - val_loss: 0.8445 - val_accuracy: 0.6840\n",
      "Epoch 18/70\n",
      "188/188 [==============================] - 1s 4ms/step - loss: 0.8268 - accuracy: 0.6966 - val_loss: 0.8407 - val_accuracy: 0.6925\n",
      "Epoch 19/70\n",
      "188/188 [==============================] - 1s 4ms/step - loss: 0.8197 - accuracy: 0.6956 - val_loss: 0.8536 - val_accuracy: 0.6935\n",
      "Epoch 20/70\n",
      "188/188 [==============================] - 1s 4ms/step - loss: 0.8160 - accuracy: 0.7003 - val_loss: 0.8409 - val_accuracy: 0.6910\n",
      "Epoch 21/70\n",
      "188/188 [==============================] - 1s 4ms/step - loss: 0.8216 - accuracy: 0.6978 - val_loss: 0.8316 - val_accuracy: 0.6905\n",
      "Epoch 22/70\n",
      "188/188 [==============================] - 1s 4ms/step - loss: 0.8065 - accuracy: 0.6945 - val_loss: 0.8199 - val_accuracy: 0.6930\n",
      "Epoch 23/70\n",
      "188/188 [==============================] - 1s 4ms/step - loss: 0.8016 - accuracy: 0.6963 - val_loss: 0.8629 - val_accuracy: 0.6765\n",
      "Epoch 24/70\n",
      "188/188 [==============================] - 1s 4ms/step - loss: 0.8048 - accuracy: 0.7026 - val_loss: 0.8041 - val_accuracy: 0.6980\n",
      "Epoch 25/70\n",
      "188/188 [==============================] - 1s 4ms/step - loss: 0.8025 - accuracy: 0.6936 - val_loss: 0.8061 - val_accuracy: 0.6955\n",
      "Epoch 26/70\n",
      "188/188 [==============================] - 1s 4ms/step - loss: 0.7847 - accuracy: 0.6985 - val_loss: 0.8077 - val_accuracy: 0.7014\n",
      "Epoch 27/70\n",
      "188/188 [==============================] - 1s 4ms/step - loss: 0.7876 - accuracy: 0.7053 - val_loss: 0.8038 - val_accuracy: 0.7049\n",
      "Epoch 28/70\n",
      "188/188 [==============================] - 1s 5ms/step - loss: 0.7835 - accuracy: 0.7071 - val_loss: 0.8023 - val_accuracy: 0.6995\n",
      "Epoch 29/70\n",
      "188/188 [==============================] - 1s 5ms/step - loss: 0.7815 - accuracy: 0.7058 - val_loss: 0.8255 - val_accuracy: 0.6955\n",
      "Epoch 30/70\n",
      "188/188 [==============================] - 1s 6ms/step - loss: 0.7798 - accuracy: 0.7031 - val_loss: 0.8005 - val_accuracy: 0.6965\n",
      "Epoch 31/70\n",
      "188/188 [==============================] - 1s 4ms/step - loss: 0.7887 - accuracy: 0.7036 - val_loss: 0.7853 - val_accuracy: 0.7064\n",
      "Epoch 32/70\n",
      "188/188 [==============================] - 1s 4ms/step - loss: 0.7645 - accuracy: 0.7079 - val_loss: 0.8105 - val_accuracy: 0.7044\n",
      "Epoch 33/70\n",
      "188/188 [==============================] - 1s 4ms/step - loss: 0.7643 - accuracy: 0.7063 - val_loss: 0.8078 - val_accuracy: 0.6995\n",
      "Epoch 34/70\n",
      "188/188 [==============================] - 1s 4ms/step - loss: 0.7630 - accuracy: 0.7074 - val_loss: 0.7863 - val_accuracy: 0.7044\n",
      "Epoch 35/70\n",
      "188/188 [==============================] - 1s 4ms/step - loss: 0.7580 - accuracy: 0.7094 - val_loss: 0.7945 - val_accuracy: 0.7034\n",
      "Epoch 36/70\n",
      "188/188 [==============================] - 1s 4ms/step - loss: 0.7555 - accuracy: 0.7064 - val_loss: 0.7762 - val_accuracy: 0.7059\n",
      "Epoch 37/70\n",
      "188/188 [==============================] - 1s 4ms/step - loss: 0.7416 - accuracy: 0.7109 - val_loss: 0.7757 - val_accuracy: 0.7079\n",
      "Epoch 38/70\n",
      "188/188 [==============================] - 1s 4ms/step - loss: 0.7398 - accuracy: 0.7109 - val_loss: 0.7682 - val_accuracy: 0.7044\n",
      "Epoch 39/70\n",
      "188/188 [==============================] - 1s 4ms/step - loss: 0.7477 - accuracy: 0.7156 - val_loss: 0.7607 - val_accuracy: 0.7054\n",
      "Epoch 40/70\n",
      "188/188 [==============================] - 1s 4ms/step - loss: 0.7472 - accuracy: 0.7109 - val_loss: 0.7999 - val_accuracy: 0.6950\n",
      "Epoch 41/70\n",
      "188/188 [==============================] - 1s 4ms/step - loss: 0.7400 - accuracy: 0.7113 - val_loss: 0.7899 - val_accuracy: 0.6980\n",
      "Epoch 42/70\n",
      "188/188 [==============================] - 1s 4ms/step - loss: 0.7353 - accuracy: 0.7144 - val_loss: 0.7794 - val_accuracy: 0.7119\n",
      "Epoch 43/70\n",
      "188/188 [==============================] - 1s 5ms/step - loss: 0.7325 - accuracy: 0.7164 - val_loss: 0.8266 - val_accuracy: 0.6880\n",
      "Epoch 44/70\n",
      "188/188 [==============================] - 1s 5ms/step - loss: 0.7358 - accuracy: 0.7206 - val_loss: 0.7719 - val_accuracy: 0.7109\n",
      "Epoch 45/70\n",
      "188/188 [==============================] - 1s 4ms/step - loss: 0.7303 - accuracy: 0.7126 - val_loss: 0.7664 - val_accuracy: 0.7064\n",
      "Epoch 46/70\n",
      "188/188 [==============================] - 1s 4ms/step - loss: 0.7191 - accuracy: 0.7198 - val_loss: 0.7621 - val_accuracy: 0.7114\n",
      "Epoch 47/70\n",
      "188/188 [==============================] - 1s 4ms/step - loss: 0.7151 - accuracy: 0.7226 - val_loss: 0.7560 - val_accuracy: 0.7074\n",
      "Epoch 48/70\n",
      "188/188 [==============================] - 1s 4ms/step - loss: 0.7128 - accuracy: 0.7236 - val_loss: 0.7700 - val_accuracy: 0.7059\n",
      "Epoch 49/70\n",
      "188/188 [==============================] - 1s 4ms/step - loss: 0.7240 - accuracy: 0.7181 - val_loss: 0.7993 - val_accuracy: 0.6940\n",
      "Epoch 50/70\n",
      "188/188 [==============================] - 1s 6ms/step - loss: 0.7062 - accuracy: 0.7272 - val_loss: 0.7778 - val_accuracy: 0.7139\n",
      "Epoch 51/70\n",
      "188/188 [==============================] - 1s 5ms/step - loss: 0.7086 - accuracy: 0.7249 - val_loss: 0.7725 - val_accuracy: 0.7054\n",
      "Epoch 52/70\n",
      "188/188 [==============================] - 1s 4ms/step - loss: 0.7030 - accuracy: 0.7239 - val_loss: 0.7444 - val_accuracy: 0.7114\n",
      "Epoch 53/70\n",
      "188/188 [==============================] - 1s 4ms/step - loss: 0.7115 - accuracy: 0.7193 - val_loss: 0.7532 - val_accuracy: 0.7184\n",
      "Epoch 54/70\n",
      "188/188 [==============================] - 1s 4ms/step - loss: 0.6900 - accuracy: 0.7274 - val_loss: 0.7487 - val_accuracy: 0.7249\n",
      "Epoch 55/70\n",
      "188/188 [==============================] - 1s 4ms/step - loss: 0.6936 - accuracy: 0.7292 - val_loss: 0.7782 - val_accuracy: 0.7324\n",
      "Epoch 56/70\n",
      "188/188 [==============================] - 1s 5ms/step - loss: 0.6836 - accuracy: 0.7316 - val_loss: 0.7490 - val_accuracy: 0.7259\n",
      "Epoch 57/70\n",
      "188/188 [==============================] - 1s 5ms/step - loss: 0.6968 - accuracy: 0.7213 - val_loss: 0.7596 - val_accuracy: 0.7174\n",
      "Epoch 58/70\n",
      "188/188 [==============================] - 1s 4ms/step - loss: 0.6752 - accuracy: 0.7329 - val_loss: 0.7488 - val_accuracy: 0.7304\n",
      "Epoch 59/70\n",
      "188/188 [==============================] - 1s 4ms/step - loss: 0.6740 - accuracy: 0.7437 - val_loss: 0.7556 - val_accuracy: 0.7264\n",
      "Epoch 60/70\n",
      "188/188 [==============================] - 1s 4ms/step - loss: 0.6726 - accuracy: 0.7347 - val_loss: 0.7763 - val_accuracy: 0.7204\n",
      "Epoch 61/70\n",
      "188/188 [==============================] - 1s 4ms/step - loss: 0.6697 - accuracy: 0.7391 - val_loss: 0.7463 - val_accuracy: 0.7314\n",
      "Epoch 62/70\n",
      "188/188 [==============================] - 1s 4ms/step - loss: 0.6709 - accuracy: 0.7394 - val_loss: 0.7738 - val_accuracy: 0.7219\n",
      "Epoch 63/70\n",
      "188/188 [==============================] - 1s 4ms/step - loss: 0.6588 - accuracy: 0.7424 - val_loss: 0.7771 - val_accuracy: 0.7224\n",
      "Epoch 64/70\n",
      "188/188 [==============================] - 1s 5ms/step - loss: 0.6738 - accuracy: 0.7414 - val_loss: 0.7606 - val_accuracy: 0.7184\n",
      "Epoch 65/70\n",
      "188/188 [==============================] - 1s 4ms/step - loss: 0.6685 - accuracy: 0.7372 - val_loss: 0.8097 - val_accuracy: 0.7264\n",
      "Epoch 66/70\n",
      "188/188 [==============================] - 1s 4ms/step - loss: 0.6672 - accuracy: 0.7474 - val_loss: 0.7545 - val_accuracy: 0.7244\n",
      "Epoch 67/70\n",
      "188/188 [==============================] - 1s 4ms/step - loss: 0.6533 - accuracy: 0.7442 - val_loss: 0.7563 - val_accuracy: 0.7289\n",
      "Epoch 68/70\n",
      "188/188 [==============================] - 1s 4ms/step - loss: 0.6652 - accuracy: 0.7384 - val_loss: 0.7973 - val_accuracy: 0.7314\n",
      "Epoch 69/70\n",
      "188/188 [==============================] - 1s 5ms/step - loss: 0.6472 - accuracy: 0.7459 - val_loss: 0.7768 - val_accuracy: 0.7294\n",
      "Epoch 70/70\n",
      "188/188 [==============================] - 1s 5ms/step - loss: 0.6554 - accuracy: 0.7412 - val_loss: 0.8010 - val_accuracy: 0.7094\n"
     ]
    }
   ],
   "source": [
    "#training\n",
    "train = model.fit(images_train, y_train, validation_data=(images_val, y_val), epochs=70, verbose=1)"
   ]
  },
  {
   "cell_type": "code",
   "execution_count": 15,
   "id": "ca9eb646",
   "metadata": {
    "execution": {
     "iopub.execute_input": "2022-03-08T04:27:53.510156Z",
     "iopub.status.busy": "2022-03-08T04:27:53.509458Z",
     "iopub.status.idle": "2022-03-08T04:27:53.713516Z",
     "shell.execute_reply": "2022-03-08T04:27:53.712844Z",
     "shell.execute_reply.started": "2022-03-08T04:10:21.559444Z"
    },
    "papermill": {
     "duration": 0.557722,
     "end_time": "2022-03-08T04:27:53.713678",
     "exception": false,
     "start_time": "2022-03-08T04:27:53.155956",
     "status": "completed"
    },
    "tags": []
   },
   "outputs": [
    {
     "name": "stdout",
     "output_type": "stream",
     "text": [
      "Score : 70.94%\n"
     ]
    }
   ],
   "source": [
    "# Test\n",
    "scores = model.evaluate(images_val, y_val, verbose=0)\n",
    "print(\"Score : %.2f%%\" % (scores[1]*100))"
   ]
  },
  {
   "cell_type": "code",
   "execution_count": 16,
   "id": "eb8d8cd8",
   "metadata": {
    "execution": {
     "iopub.execute_input": "2022-03-08T04:27:54.439248Z",
     "iopub.status.busy": "2022-03-08T04:27:54.438329Z",
     "iopub.status.idle": "2022-03-08T04:27:54.736248Z",
     "shell.execute_reply": "2022-03-08T04:27:54.736721Z",
     "shell.execute_reply.started": "2022-03-08T04:10:21.853049Z"
    },
    "papermill": {
     "duration": 0.669853,
     "end_time": "2022-03-08T04:27:54.736869",
     "exception": false,
     "start_time": "2022-03-08T04:27:54.067016",
     "status": "completed"
    },
    "tags": []
   },
   "outputs": [
    {
     "data": {
      "image/png": "[encoded data removed]",
      "text/plain": [
       "<Figure size 1080x360 with 2 Axes>"
      ]
     },
     "metadata": {
      "needs_background": "light"
     },
     "output_type": "display_data"
    }
   ],
   "source": [
    "plt.figure(figsize=(15,5))\n",
    "plt.subplot(1, 2, 1)\n",
    "plt.plot(train.history['accuracy'],'r', label='accuracy')\n",
    "plt.plot(train.history['val_accuracy'],'b', label = 'val_accuracy')\n",
    "plt.xlabel('Epoch')\n",
    "plt.ylabel('Accuracy')\n",
    "plt.legend()\n",
    "# plt.show()\n",
    "plt.subplot(1, 2, 2)\n",
    "plt.plot(train.history['loss'],'r', label='loss')\n",
    "plt.plot(train.history['val_loss'],'b', label = 'val_loss')\n",
    "plt.xlabel('Epoch')\n",
    "plt.ylabel('Loss')\n",
    "plt.legend()\n",
    "plt.show()"
   ]
  },
  {
   "cell_type": "markdown",
   "id": "c9916e04",
   "metadata": {
    "papermill": {
     "duration": 0.354246,
     "end_time": "2022-03-08T04:27:55.445973",
     "exception": false,
     "start_time": "2022-03-08T04:27:55.091727",
     "status": "completed"
    },
    "tags": []
   },
   "source": [
    "# <font color=darkgreen> Building Simple Neural network using Batch Nornalization"
   ]
  },
  {
   "cell_type": "code",
   "execution_count": 17,
   "id": "b77f30a3",
   "metadata": {
    "execution": {
     "iopub.execute_input": "2022-03-08T04:27:56.197757Z",
     "iopub.status.busy": "2022-03-08T04:27:56.196840Z",
     "iopub.status.idle": "2022-03-08T04:27:56.264936Z",
     "shell.execute_reply": "2022-03-08T04:27:56.264489Z",
     "shell.execute_reply.started": "2022-03-08T04:10:22.188711Z"
    },
    "papermill": {
     "duration": 0.463629,
     "end_time": "2022-03-08T04:27:56.265057",
     "exception": false,
     "start_time": "2022-03-08T04:27:55.801428",
     "status": "completed"
    },
    "tags": []
   },
   "outputs": [
    {
     "name": "stdout",
     "output_type": "stream",
     "text": [
      "Model: \"sequential_1\"\n",
      "_________________________________________________________________\n",
      "Layer (type)                 Output Shape              Param #   \n",
      "=================================================================\n",
      "Convo2D_Layer_1 (Conv2D)     (None, 28, 28, 32)        896       \n",
      "_________________________________________________________________\n",
      "MaxPooling2D_Layer_1 (MaxPoo (None, 14, 14, 32)        0         \n",
      "_________________________________________________________________\n",
      "Convo2D_Layer_2 (Conv2D)     (None, 14, 14, 32)        9248      \n",
      "_________________________________________________________________\n",
      "MaxPooling2D_Layer_2 (MaxPoo (None, 7, 7, 32)          0         \n",
      "_________________________________________________________________\n",
      "Convo2D_Layer_3 (Conv2D)     (None, 7, 7, 15)          4335      \n",
      "_________________________________________________________________\n",
      "MaxPooling2D_Layer_3 (MaxPoo (None, 3, 3, 15)          0         \n",
      "_________________________________________________________________\n",
      "DroupOut_Layer_1 (Dropout)   (None, 3, 3, 15)          0         \n",
      "_________________________________________________________________\n",
      "Convo2D_Layer_4 (Conv2D)     (None, 3, 3, 5)           680       \n",
      "_________________________________________________________________\n",
      "MaxPooling2D_Layer_4 (MaxPoo (None, 1, 1, 5)           0         \n",
      "_________________________________________________________________\n",
      "DroupOut_Layer_2 (Dropout)   (None, 1, 1, 5)           0         \n",
      "_________________________________________________________________\n",
      "Flatten_Layer_1 (Flatten)    (None, 5)                 0         \n",
      "_________________________________________________________________\n",
      "Batch_Normalization_Layer_1  (None, 5)                 20        \n",
      "_________________________________________________________________\n",
      "Dense_Layer (Dense)          (None, 7)                 42        \n",
      "=================================================================\n",
      "Total params: 15,221\n",
      "Trainable params: 15,211\n",
      "Non-trainable params: 10\n",
      "_________________________________________________________________\n"
     ]
    }
   ],
   "source": [
    "\n",
    "model1 = tf.keras.models.Sequential([\n",
    "    \n",
    "    tf.keras.layers.Conv2D(32, (3, 3),padding='same', name ='Convo2D_Layer_1', input_shape=(28, 28, 3), activation='relu'),\n",
    "    tf.keras.layers.MaxPooling2D((2, 2),name ='MaxPooling2D_Layer_1' ),\n",
    "    tf.keras.layers.Conv2D(32, (3, 3),padding='same', name ='Convo2D_Layer_2', activation='relu'),\n",
    "    tf.keras.layers.MaxPooling2D((2, 2),name ='MaxPooling2D_Layer_2'),\n",
    "    tf.keras.layers.Conv2D(15, (3, 3),padding='same',name ='Convo2D_Layer_3',  activation='relu'),\n",
    "    tf.keras.layers.MaxPooling2D((2, 2),name ='MaxPooling2D_Layer_3'),\n",
    "    tf.keras.layers.Dropout(0.15,name ='DroupOut_Layer_1'),\n",
    "    tf.keras.layers.Conv2D(5, (3, 3),padding='same',name ='Convo2D_Layer_4',  activation='relu'),\n",
    "    tf.keras.layers.MaxPooling2D((2, 2),name ='MaxPooling2D_Layer_4'),\n",
    "    tf.keras.layers.Dropout(0.2,name ='DroupOut_Layer_2'),\n",
    "    tf.keras.layers.Flatten(name ='Flatten_Layer_1'),\n",
    "    tf.keras.layers.BatchNormalization(name ='Batch_Normalization_Layer_1'),\n",
    "    \n",
    "    tf.keras.layers.Dense(7,name ='Dense_Layer',activation='softmax')\n",
    "])\n",
    "model1.summary()"
   ]
  },
  {
   "cell_type": "code",
   "execution_count": 18,
   "id": "d9daf439",
   "metadata": {
    "execution": {
     "iopub.execute_input": "2022-03-08T04:27:56.983991Z",
     "iopub.status.busy": "2022-03-08T04:27:56.983159Z",
     "iopub.status.idle": "2022-03-08T04:30:11.896111Z",
     "shell.execute_reply": "2022-03-08T04:30:11.895678Z",
     "shell.execute_reply.started": "2022-03-08T04:10:22.282894Z"
    },
    "papermill": {
     "duration": 135.275693,
     "end_time": "2022-03-08T04:30:11.896243",
     "exception": false,
     "start_time": "2022-03-08T04:27:56.620550",
     "status": "completed"
    },
    "tags": []
   },
   "outputs": [
    {
     "name": "stdout",
     "output_type": "stream",
     "text": [
      "Epoch 1/70\n",
      "376/376 [==============================] - 3s 6ms/step - loss: 1.5509 - accuracy: 0.5267 - val_loss: 1.2384 - val_accuracy: 0.6640\n",
      "Epoch 2/70\n",
      "376/376 [==============================] - 2s 5ms/step - loss: 1.1532 - accuracy: 0.6697 - val_loss: 1.1584 - val_accuracy: 0.6640\n",
      "Epoch 3/70\n",
      "376/376 [==============================] - 2s 5ms/step - loss: 1.1315 - accuracy: 0.6697 - val_loss: 1.1562 - val_accuracy: 0.6640\n",
      "Epoch 4/70\n",
      "376/376 [==============================] - 2s 5ms/step - loss: 1.1280 - accuracy: 0.6697 - val_loss: 1.1568 - val_accuracy: 0.6640\n",
      "Epoch 5/70\n",
      "376/376 [==============================] - 2s 5ms/step - loss: 1.1272 - accuracy: 0.6697 - val_loss: 1.1575 - val_accuracy: 0.6640\n",
      "Epoch 6/70\n",
      "376/376 [==============================] - 2s 6ms/step - loss: 1.0814 - accuracy: 0.6697 - val_loss: 1.0209 - val_accuracy: 0.6640\n",
      "Epoch 7/70\n",
      "376/376 [==============================] - 2s 5ms/step - loss: 1.0213 - accuracy: 0.6695 - val_loss: 1.0012 - val_accuracy: 0.6640\n",
      "Epoch 8/70\n",
      "376/376 [==============================] - 2s 5ms/step - loss: 0.9966 - accuracy: 0.6688 - val_loss: 1.0096 - val_accuracy: 0.6640\n",
      "Epoch 9/70\n",
      "376/376 [==============================] - 2s 5ms/step - loss: 0.9893 - accuracy: 0.6690 - val_loss: 1.0014 - val_accuracy: 0.6640\n",
      "Epoch 10/70\n",
      "376/376 [==============================] - 2s 5ms/step - loss: 0.9821 - accuracy: 0.6692 - val_loss: 0.9651 - val_accuracy: 0.6640\n",
      "Epoch 11/70\n",
      "376/376 [==============================] - 2s 5ms/step - loss: 0.9681 - accuracy: 0.6672 - val_loss: 0.9633 - val_accuracy: 0.6640\n",
      "Epoch 12/70\n",
      "376/376 [==============================] - 2s 5ms/step - loss: 0.9658 - accuracy: 0.6658 - val_loss: 0.9358 - val_accuracy: 0.6640\n",
      "Epoch 13/70\n",
      "376/376 [==============================] - 2s 5ms/step - loss: 0.9690 - accuracy: 0.6670 - val_loss: 0.9552 - val_accuracy: 0.6645\n",
      "Epoch 14/70\n",
      "376/376 [==============================] - 2s 6ms/step - loss: 0.9453 - accuracy: 0.6777 - val_loss: 0.9341 - val_accuracy: 0.6650\n",
      "Epoch 15/70\n",
      "376/376 [==============================] - 2s 5ms/step - loss: 0.9343 - accuracy: 0.6803 - val_loss: 0.9240 - val_accuracy: 0.6650\n",
      "Epoch 16/70\n",
      "376/376 [==============================] - 2s 6ms/step - loss: 0.9277 - accuracy: 0.6790 - val_loss: 0.9280 - val_accuracy: 0.6605\n",
      "Epoch 17/70\n",
      "376/376 [==============================] - 2s 5ms/step - loss: 0.9240 - accuracy: 0.6808 - val_loss: 0.9065 - val_accuracy: 0.6715\n",
      "Epoch 18/70\n",
      "376/376 [==============================] - 2s 5ms/step - loss: 0.9191 - accuracy: 0.6790 - val_loss: 0.9127 - val_accuracy: 0.6680\n",
      "Epoch 19/70\n",
      "376/376 [==============================] - 2s 5ms/step - loss: 0.9121 - accuracy: 0.6831 - val_loss: 0.9092 - val_accuracy: 0.6655\n",
      "Epoch 20/70\n",
      "376/376 [==============================] - 2s 5ms/step - loss: 0.9231 - accuracy: 0.6783 - val_loss: 0.9312 - val_accuracy: 0.6670\n",
      "Epoch 21/70\n",
      "376/376 [==============================] - 2s 5ms/step - loss: 0.9151 - accuracy: 0.6833 - val_loss: 0.8889 - val_accuracy: 0.6685\n",
      "Epoch 22/70\n",
      "376/376 [==============================] - 2s 5ms/step - loss: 0.9157 - accuracy: 0.6810 - val_loss: 0.9114 - val_accuracy: 0.6710\n",
      "Epoch 23/70\n",
      "376/376 [==============================] - 2s 5ms/step - loss: 0.9095 - accuracy: 0.6811 - val_loss: 0.8869 - val_accuracy: 0.6695\n",
      "Epoch 24/70\n",
      "376/376 [==============================] - 2s 5ms/step - loss: 0.9049 - accuracy: 0.6808 - val_loss: 0.8871 - val_accuracy: 0.6700\n",
      "Epoch 25/70\n",
      "376/376 [==============================] - 2s 5ms/step - loss: 0.9012 - accuracy: 0.6860 - val_loss: 0.8796 - val_accuracy: 0.6705\n",
      "Epoch 26/70\n",
      "376/376 [==============================] - 2s 5ms/step - loss: 0.9052 - accuracy: 0.6805 - val_loss: 0.8967 - val_accuracy: 0.6690\n",
      "Epoch 27/70\n",
      "376/376 [==============================] - 2s 5ms/step - loss: 0.9099 - accuracy: 0.6768 - val_loss: 0.8762 - val_accuracy: 0.6765\n",
      "Epoch 28/70\n",
      "376/376 [==============================] - 2s 5ms/step - loss: 0.8918 - accuracy: 0.6843 - val_loss: 0.9052 - val_accuracy: 0.6635\n",
      "Epoch 29/70\n",
      "376/376 [==============================] - 2s 6ms/step - loss: 0.8905 - accuracy: 0.6845 - val_loss: 0.8726 - val_accuracy: 0.6820\n",
      "Epoch 30/70\n",
      "376/376 [==============================] - 2s 6ms/step - loss: 0.8980 - accuracy: 0.6823 - val_loss: 0.8607 - val_accuracy: 0.6725\n",
      "Epoch 31/70\n",
      "376/376 [==============================] - 2s 6ms/step - loss: 0.8908 - accuracy: 0.6843 - val_loss: 0.8644 - val_accuracy: 0.6660\n",
      "Epoch 32/70\n",
      "376/376 [==============================] - 2s 6ms/step - loss: 0.8826 - accuracy: 0.6835 - val_loss: 0.8708 - val_accuracy: 0.6710\n",
      "Epoch 33/70\n",
      "376/376 [==============================] - 2s 5ms/step - loss: 0.8925 - accuracy: 0.6850 - val_loss: 0.8503 - val_accuracy: 0.6795\n",
      "Epoch 34/70\n",
      "376/376 [==============================] - 2s 5ms/step - loss: 0.8880 - accuracy: 0.6845 - val_loss: 0.8567 - val_accuracy: 0.6780\n",
      "Epoch 35/70\n",
      "376/376 [==============================] - 2s 5ms/step - loss: 0.8916 - accuracy: 0.6830 - val_loss: 0.8554 - val_accuracy: 0.6890\n",
      "Epoch 36/70\n",
      "376/376 [==============================] - 2s 5ms/step - loss: 0.8889 - accuracy: 0.6816 - val_loss: 0.8579 - val_accuracy: 0.6815\n",
      "Epoch 37/70\n",
      "376/376 [==============================] - 2s 5ms/step - loss: 0.8788 - accuracy: 0.6910 - val_loss: 0.8480 - val_accuracy: 0.6850\n",
      "Epoch 38/70\n",
      "376/376 [==============================] - 2s 5ms/step - loss: 0.8731 - accuracy: 0.6908 - val_loss: 0.8414 - val_accuracy: 0.6875\n",
      "Epoch 39/70\n",
      "376/376 [==============================] - 2s 5ms/step - loss: 0.8744 - accuracy: 0.6900 - val_loss: 0.8721 - val_accuracy: 0.6660\n",
      "Epoch 40/70\n",
      "376/376 [==============================] - 2s 5ms/step - loss: 0.8892 - accuracy: 0.6833 - val_loss: 0.8579 - val_accuracy: 0.6780\n",
      "Epoch 41/70\n",
      "376/376 [==============================] - 2s 5ms/step - loss: 0.8719 - accuracy: 0.6885 - val_loss: 0.8203 - val_accuracy: 0.6900\n",
      "Epoch 42/70\n",
      "376/376 [==============================] - 2s 5ms/step - loss: 0.8708 - accuracy: 0.6916 - val_loss: 0.8298 - val_accuracy: 0.6925\n",
      "Epoch 43/70\n",
      "376/376 [==============================] - 2s 5ms/step - loss: 0.8614 - accuracy: 0.6910 - val_loss: 0.8247 - val_accuracy: 0.6830\n",
      "Epoch 44/70\n",
      "376/376 [==============================] - 2s 5ms/step - loss: 0.8720 - accuracy: 0.6901 - val_loss: 0.8566 - val_accuracy: 0.6815\n",
      "Epoch 45/70\n",
      "376/376 [==============================] - 2s 5ms/step - loss: 0.8652 - accuracy: 0.6876 - val_loss: 0.8310 - val_accuracy: 0.6845\n",
      "Epoch 46/70\n",
      "376/376 [==============================] - 2s 5ms/step - loss: 0.8651 - accuracy: 0.6908 - val_loss: 0.8510 - val_accuracy: 0.6885\n",
      "Epoch 47/70\n",
      "376/376 [==============================] - 2s 6ms/step - loss: 0.8679 - accuracy: 0.6930 - val_loss: 0.8407 - val_accuracy: 0.6845\n",
      "Epoch 48/70\n",
      "376/376 [==============================] - 2s 5ms/step - loss: 0.8627 - accuracy: 0.6923 - val_loss: 0.8722 - val_accuracy: 0.6720\n",
      "Epoch 49/70\n",
      "376/376 [==============================] - 2s 6ms/step - loss: 0.8593 - accuracy: 0.6943 - val_loss: 0.8424 - val_accuracy: 0.6785\n",
      "Epoch 50/70\n",
      "376/376 [==============================] - 2s 5ms/step - loss: 0.8557 - accuracy: 0.6991 - val_loss: 0.8953 - val_accuracy: 0.6720\n",
      "Epoch 51/70\n",
      "376/376 [==============================] - 2s 5ms/step - loss: 0.8621 - accuracy: 0.6913 - val_loss: 0.8422 - val_accuracy: 0.6975\n",
      "Epoch 52/70\n",
      "376/376 [==============================] - 2s 6ms/step - loss: 0.8486 - accuracy: 0.6956 - val_loss: 0.8368 - val_accuracy: 0.6815\n",
      "Epoch 53/70\n",
      "376/376 [==============================] - 2s 5ms/step - loss: 0.8554 - accuracy: 0.6936 - val_loss: 0.8316 - val_accuracy: 0.6955\n",
      "Epoch 54/70\n",
      "376/376 [==============================] - 2s 5ms/step - loss: 0.8516 - accuracy: 0.6911 - val_loss: 0.8272 - val_accuracy: 0.6870\n",
      "Epoch 55/70\n",
      "376/376 [==============================] - 2s 5ms/step - loss: 0.8386 - accuracy: 0.6966 - val_loss: 0.8254 - val_accuracy: 0.6860\n",
      "Epoch 56/70\n",
      "376/376 [==============================] - 2s 5ms/step - loss: 0.8603 - accuracy: 0.6883 - val_loss: 0.8085 - val_accuracy: 0.6930\n",
      "Epoch 57/70\n",
      "376/376 [==============================] - 2s 5ms/step - loss: 0.8449 - accuracy: 0.6961 - val_loss: 0.8225 - val_accuracy: 0.6930\n",
      "Epoch 58/70\n",
      "376/376 [==============================] - 2s 5ms/step - loss: 0.8437 - accuracy: 0.6980 - val_loss: 0.8157 - val_accuracy: 0.6875\n",
      "Epoch 59/70\n",
      "376/376 [==============================] - 2s 5ms/step - loss: 0.8573 - accuracy: 0.6926 - val_loss: 0.8724 - val_accuracy: 0.6905\n",
      "Epoch 60/70\n",
      "376/376 [==============================] - 2s 5ms/step - loss: 0.8366 - accuracy: 0.6933 - val_loss: 0.8216 - val_accuracy: 0.7024\n",
      "Epoch 61/70\n",
      "376/376 [==============================] - 2s 5ms/step - loss: 0.8392 - accuracy: 0.6971 - val_loss: 0.8286 - val_accuracy: 0.6900\n",
      "Epoch 62/70\n",
      "376/376 [==============================] - 2s 5ms/step - loss: 0.8271 - accuracy: 0.6981 - val_loss: 0.8467 - val_accuracy: 0.6860\n",
      "Epoch 63/70\n",
      "376/376 [==============================] - 2s 5ms/step - loss: 0.8354 - accuracy: 0.6938 - val_loss: 0.8036 - val_accuracy: 0.7004\n",
      "Epoch 64/70\n",
      "376/376 [==============================] - 2s 6ms/step - loss: 0.8345 - accuracy: 0.6936 - val_loss: 0.8273 - val_accuracy: 0.6880\n",
      "Epoch 65/70\n",
      "376/376 [==============================] - 2s 6ms/step - loss: 0.8356 - accuracy: 0.6908 - val_loss: 0.8427 - val_accuracy: 0.6860\n",
      "Epoch 66/70\n",
      "376/376 [==============================] - 2s 6ms/step - loss: 0.8340 - accuracy: 0.6940 - val_loss: 0.8220 - val_accuracy: 0.6945\n",
      "Epoch 67/70\n",
      "376/376 [==============================] - 2s 5ms/step - loss: 0.8355 - accuracy: 0.6951 - val_loss: 0.8225 - val_accuracy: 0.6890\n",
      "Epoch 68/70\n",
      "376/376 [==============================] - 2s 5ms/step - loss: 0.8267 - accuracy: 0.6961 - val_loss: 0.8086 - val_accuracy: 0.6945\n",
      "Epoch 69/70\n",
      "376/376 [==============================] - 2s 5ms/step - loss: 0.8294 - accuracy: 0.6948 - val_loss: 0.8296 - val_accuracy: 0.6885\n",
      "Epoch 70/70\n",
      "376/376 [==============================] - 2s 5ms/step - loss: 0.8203 - accuracy: 0.6955 - val_loss: 0.8448 - val_accuracy: 0.6800\n"
     ]
    }
   ],
   "source": [
    "# Compiling the model\n",
    "\n",
    "model1.compile(loss='sparse_categorical_crossentropy', \n",
    "              optimizer=tf.keras.optimizers.Adam(learning_rate = 1e-3), \n",
    "              metrics=['accuracy'])\n",
    "#training\n",
    "train = model1.fit(images_train, y_train, validation_data=(images_val, y_val), epochs=70,batch_size=16)\n"
   ]
  },
  {
   "cell_type": "code",
   "execution_count": 19,
   "id": "77a28f38",
   "metadata": {
    "execution": {
     "iopub.execute_input": "2022-03-08T04:30:14.016049Z",
     "iopub.status.busy": "2022-03-08T04:30:14.015277Z",
     "iopub.status.idle": "2022-03-08T04:30:14.223045Z",
     "shell.execute_reply": "2022-03-08T04:30:14.223725Z",
     "shell.execute_reply.started": "2022-03-08T04:12:44.944051Z"
    },
    "papermill": {
     "duration": 1.266549,
     "end_time": "2022-03-08T04:30:14.223885",
     "exception": false,
     "start_time": "2022-03-08T04:30:12.957336",
     "status": "completed"
    },
    "tags": []
   },
   "outputs": [
    {
     "name": "stdout",
     "output_type": "stream",
     "text": [
      "Score : 68.00%\n"
     ]
    }
   ],
   "source": [
    "# Test\n",
    "scores = model1.evaluate(images_val, y_val, verbose=0)\n",
    "print(\"Score : %.2f%%\" % (scores[1]*100))"
   ]
  },
  {
   "cell_type": "code",
   "execution_count": 20,
   "id": "fcf52dfd",
   "metadata": {
    "execution": {
     "iopub.execute_input": "2022-03-08T04:30:16.429504Z",
     "iopub.status.busy": "2022-03-08T04:30:16.428188Z",
     "iopub.status.idle": "2022-03-08T04:30:16.725741Z",
     "shell.execute_reply": "2022-03-08T04:30:16.726160Z",
     "shell.execute_reply.started": "2022-03-08T04:12:45.156525Z"
    },
    "papermill": {
     "duration": 1.400128,
     "end_time": "2022-03-08T04:30:16.726304",
     "exception": false,
     "start_time": "2022-03-08T04:30:15.326176",
     "status": "completed"
    },
    "tags": []
   },
   "outputs": [
    {
     "data": {
      "image/png": "[encoded data removed]",
      "text/plain": [
       "<Figure size 1080x360 with 2 Axes>"
      ]
     },
     "metadata": {
      "needs_background": "light"
     },
     "output_type": "display_data"
    }
   ],
   "source": [
    "plt.figure(figsize=(15,5))\n",
    "plt.subplot(1, 2, 1)\n",
    "plt.plot(train.history['accuracy'],'r', label='accuracy')\n",
    "plt.plot(train.history['val_accuracy'],'b', label = 'val_accuracy')\n",
    "plt.xlabel('Epoch')\n",
    "plt.ylabel('Accuracy')\n",
    "plt.legend()\n",
    "# plt.show()\n",
    "plt.subplot(1, 2, 2)\n",
    "plt.plot(train.history['loss'],'r', label='loss')\n",
    "plt.plot(train.history['val_loss'],'b', label = 'val_loss')\n",
    "plt.xlabel('Epoch')\n",
    "plt.ylabel('Loss')\n",
    "plt.legend()\n",
    "plt.show()"
   ]
  },
  {
   "cell_type": "markdown",
   "id": "ed428a7d",
   "metadata": {
    "papermill": {
     "duration": 1.058501,
     "end_time": "2022-03-08T04:30:18.838871",
     "exception": false,
     "start_time": "2022-03-08T04:30:17.780370",
     "status": "completed"
    },
    "tags": []
   },
   "source": [
    "# <font color=darkgreen> Building CNN"
   ]
  },
  {
   "cell_type": "code",
   "execution_count": 21,
   "id": "d13a9229",
   "metadata": {
    "execution": {
     "iopub.execute_input": "2022-03-08T04:30:21.223124Z",
     "iopub.status.busy": "2022-03-08T04:30:21.222244Z",
     "iopub.status.idle": "2022-03-08T04:30:21.279638Z",
     "shell.execute_reply": "2022-03-08T04:30:21.278810Z",
     "shell.execute_reply.started": "2022-03-08T04:12:45.463747Z"
    },
    "papermill": {
     "duration": 1.365737,
     "end_time": "2022-03-08T04:30:21.279777",
     "exception": false,
     "start_time": "2022-03-08T04:30:19.914040",
     "status": "completed"
    },
    "tags": []
   },
   "outputs": [],
   "source": [
    "model2 = tf.keras.Sequential([\n",
    " tf.keras.layers.Dense(32, activation=\"relu\",input_shape=(28, 28, 3)),\n",
    " tf.keras.layers.Dense(64,  activation=\"relu\"),\n",
    " tf.keras.layers.BatchNormalization(name ='Batch_Normalization_Layer_1'),\n",
    " tf.keras.layers.Dense(7,name ='Dense_Layer',activation='softmax')\n",
    "])"
   ]
  },
  {
   "cell_type": "code",
   "execution_count": 22,
   "id": "b69bb3f7",
   "metadata": {
    "execution": {
     "iopub.execute_input": "2022-03-08T04:30:23.393791Z",
     "iopub.status.busy": "2022-03-08T04:30:23.392057Z",
     "iopub.status.idle": "2022-03-08T04:30:23.394360Z",
     "shell.execute_reply": "2022-03-08T04:30:23.394823Z",
     "shell.execute_reply.started": "2022-03-08T04:12:45.528611Z"
    },
    "papermill": {
     "duration": 1.060372,
     "end_time": "2022-03-08T04:30:23.394968",
     "exception": false,
     "start_time": "2022-03-08T04:30:22.334596",
     "status": "completed"
    },
    "tags": []
   },
   "outputs": [],
   "source": [
    "# Compiling the model\n",
    "\n",
    "# model2.compile(loss='sparse_categorical_crossentropy', \n",
    "#               optimizer=tf.keras.optimizers.Adam(learning_rate = 1e-3), \n",
    "#               metrics=['accuracy'])\n",
    "# #training\n",
    "# train = model2.fit(images_train, y_train, validation_data=(images_val, y_val), epochs=70,batch_size=16)"
   ]
  },
  {
   "cell_type": "code",
   "execution_count": null,
   "id": "839e2290",
   "metadata": {
    "papermill": {
     "duration": 1.058578,
     "end_time": "2022-03-08T04:30:25.547907",
     "exception": false,
     "start_time": "2022-03-08T04:30:24.489329",
     "status": "completed"
    },
    "tags": []
   },
   "outputs": [],
   "source": []
  },
  {
   "cell_type": "code",
   "execution_count": null,
   "id": "1cba3517",
   "metadata": {
    "papermill": {
     "duration": 1.05633,
     "end_time": "2022-03-08T04:30:27.673775",
     "exception": false,
     "start_time": "2022-03-08T04:30:26.617445",
     "status": "completed"
    },
    "tags": []
   },
   "outputs": [],
   "source": []
  }
 ],
 "metadata": {
  "kernelspec": {
   "display_name": "Python 3",
   "language": "python",
   "name": "python3"
  },
  "language_info": {
   "codemirror_mode": {
    "name": "ipython",
    "version": 3
   },
   "file_extension": ".py",
   "mimetype": "text/x-python",
   "name": "python",
   "nbconvert_exporter": "python",
   "pygments_lexer": "ipython3",
   "version": "3.7.12"
  },
  "papermill": {
   "default_parameters": {},
   "duration": 264.751311,
   "end_time": "2022-03-08T04:30:32.132469",
   "environment_variables": {},
   "exception": null,
   "input_path": "__notebook__.ipynb",
   "output_path": "__notebook__.ipynb",
   "parameters": {},
   "start_time": "2022-03-08T04:26:07.381158",
   "version": "2.3.3"
  }
 },
 "nbformat": 4,
 "nbformat_minor": 5
}
